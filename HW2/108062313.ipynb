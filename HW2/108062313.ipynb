{
 "cells": [
  {
   "cell_type": "code",
   "execution_count": 1,
   "metadata": {},
   "outputs": [],
   "source": [
    "import pandas as pd\n",
    "import numpy as np\n",
    "import matplotlib.pyplot as plt\n",
    "import warnings\n",
    "from sklearn.preprocessing import StandardScaler\n",
    "warnings.filterwarnings(\"ignore\")"
   ]
  },
  {
   "cell_type": "code",
   "execution_count": 2,
   "metadata": {},
   "outputs": [],
   "source": [
    "from sklearn.compose import ColumnTransformer\n",
    "from sklearn.datasets import make_moons\n",
    "from sklearn.impute import SimpleImputer \n",
    "from sklearn.linear_model import LogisticRegression, Perceptron\n",
    "from sklearn.metrics import accuracy_score, f1_score\n",
    "from sklearn.model_selection import GridSearchCV, train_test_split\n",
    "from sklearn.neighbors import KNeighborsClassifier\n",
    "from sklearn.pipeline import Pipeline\n",
    "from sklearn import preprocessing\n",
    "from sklearn.preprocessing import LabelEncoder, OneHotEncoder, StandardScaler\n",
    "from sklearn.tree import DecisionTreeClassifier\n",
    "from sklearn.ensemble import AdaBoostClassifier, BaggingClassifier, VotingClassifier, RandomForestClassifier\n",
    "from lightgbm import LGBMClassifier\n",
    "from catboost import CatBoostClassifier, Pool\n",
    "from sklearn.decomposition import PCA\n",
    "from sklearn.svm import SVC\n",
    "from sklearn.model_selection import train_test_split\n",
    "from imblearn.over_sampling import SMOTE\n",
    "from xgboost import XGBClassifier\n",
    "from imblearn.under_sampling import TomekLinks"
   ]
  },
  {
   "cell_type": "code",
   "execution_count": 4,
   "metadata": {},
   "outputs": [
    {
     "name": "stdout",
     "output_type": "stream",
     "text": [
      "Original: (35156, 22)\n"
     ]
    }
   ],
   "source": [
    "df = pd.read_csv('train.csv')\n",
    "print('Original: {}'.format(df.shape))"
   ]
  },
  {
   "cell_type": "code",
   "execution_count": 5,
   "metadata": {},
   "outputs": [],
   "source": [
    "df_test = pd.read_csv('test.csv')\n",
    "df_test['Weather'] = np.zeros((len(df_test),))\n",
    "\n",
    "# 以 train_end_idx 作為 'train.csv' 和 'test.csv' 分界列，\n",
    "train_end_idx = len(df)\n",
    "df = pd.concat([df, df_test], sort=False)  "
   ]
  },
  {
   "cell_type": "code",
   "execution_count": 6,
   "metadata": {},
   "outputs": [],
   "source": [
    "data_loc_lat = np.load('list_lat.npy',allow_pickle='TRUE').item()\n",
    "data_loc_long = np.load('list_long.npy',allow_pickle='TRUE').item()\n",
    "df['loc_lat']=df['Loc'].map(data_loc_lat)\n",
    "df['loc_long']=df['Loc'].map(data_loc_long)"
   ]
  },
  {
   "cell_type": "code",
   "execution_count": 7,
   "metadata": {},
   "outputs": [],
   "source": [
    "labelencoder = LabelEncoder()\n",
    "date = df['Date']\n",
    "data_loc = pd.get_dummies(df['Loc'])\n",
    "data_loc = pd.DataFrame(data_loc)\n",
    "data_WindDir = pd.get_dummies(df['WindDir'])\n",
    "data_WindDir = pd.DataFrame(data_WindDir)\n",
    "data_DayWindDir = pd.get_dummies(df['DayWindDir'])\n",
    "data_DayWindDir = pd.DataFrame(data_DayWindDir)\n",
    "data_NightWindDir = pd.get_dummies(df['NightWindDir'])\n",
    "data_NightWindDir = pd.DataFrame(data_NightWindDir)\n",
    "data_wind = data_WindDir + data_DayWindDir + data_NightWindDir\n",
    "df = df.drop(columns = [col for col in df.columns if df[col].dtype == np.object])\n",
    "df['Weather'] = df['Weather']*2-1"
   ]
  },
  {
   "cell_type": "code",
   "execution_count": 8,
   "metadata": {},
   "outputs": [],
   "source": [
    "def preprocessor_time(text):\n",
    "    ret=[0, 0, 0] \n",
    "    sp = text.split('/')\n",
    "    ret[0]=int(sp[0])\n",
    "    ret[1]=int(sp[1])\n",
    "    ret[2]=int(sp[2])\n",
    "    return ret"
   ]
  },
  {
   "cell_type": "code",
   "execution_count": 9,
   "metadata": {
    "scrolled": true
   },
   "outputs": [],
   "source": [
    "process_date=[]\n",
    "for D in date:\n",
    "    try:\n",
    "        d=preprocessor_time(D)\n",
    "        process_date.append(d)\n",
    "    except:\n",
    "        process_date.append([2012,6,2])\n",
    "process_date=np.array(process_date)\n",
    "data_date = PCA(n_components=3).fit_transform(process_date)\n",
    "# df['d1']=data_date[:,0]\n",
    "# df['d2']=data_date[:,1]\n",
    "# df['d3']=data_date[:,2]\n",
    "df['Y']=process_date[:,0]\n",
    "df['M']=process_date[:,1]\n",
    "df['D']=process_date[:,2]"
   ]
  },
  {
   "cell_type": "code",
   "execution_count": 10,
   "metadata": {},
   "outputs": [],
   "source": [
    "data_wind = PCA(n_components=2).fit_transform(data_wind)\n",
    "df['w1']=data_wind[:,0]\n",
    "df['w2']=data_wind[:,1]"
   ]
  },
  {
   "cell_type": "code",
   "execution_count": 11,
   "metadata": {},
   "outputs": [],
   "source": [
    "data_loc = PCA(n_components=2).fit_transform(data_loc)\n",
    "df['l1']=data_loc[:,0]\n",
    "df['l2']=data_loc[:,1]\n",
    "# df['l3']=data_loc[:,2]"
   ]
  },
  {
   "cell_type": "code",
   "execution_count": 12,
   "metadata": {},
   "outputs": [],
   "source": [
    "most_common = df.mode()\n",
    "for feature in df.drop(columns = ['Weather']).columns:\n",
    "    df[feature] = df[feature].fillna(df[feature].mean())\n",
    "#     df[feature] = df[feature].fillna(most_common[feature].item())"
   ]
  },
  {
   "cell_type": "code",
   "execution_count": 13,
   "metadata": {},
   "outputs": [],
   "source": [
    "# df_col = df.columns\n",
    "# less_importance_feature = [24, 21, 22, 17, 18]\n",
    "# for i in less_importance_feature:\n",
    "#     df = df.drop(columns = [df_col[i]])\n",
    "#     print(df_col[i])"
   ]
  },
  {
   "cell_type": "code",
   "execution_count": 14,
   "metadata": {},
   "outputs": [
    {
     "data": {
      "text/html": [
       "<div>\n",
       "<style scoped>\n",
       "    .dataframe tbody tr th:only-of-type {\n",
       "        vertical-align: middle;\n",
       "    }\n",
       "\n",
       "    .dataframe tbody tr th {\n",
       "        vertical-align: top;\n",
       "    }\n",
       "\n",
       "    .dataframe thead th {\n",
       "        text-align: right;\n",
       "    }\n",
       "</style>\n",
       "<table border=\"1\" class=\"dataframe\">\n",
       "  <thead>\n",
       "    <tr style=\"text-align: right;\">\n",
       "      <th></th>\n",
       "      <th>TempLow</th>\n",
       "      <th>TempHigh</th>\n",
       "      <th>Steaming</th>\n",
       "      <th>Sun</th>\n",
       "      <th>WindSpeed</th>\n",
       "      <th>DayWindSpeed</th>\n",
       "      <th>NightWindSpeed</th>\n",
       "      <th>DayHumidity</th>\n",
       "      <th>NightHumidity</th>\n",
       "      <th>DayPressure</th>\n",
       "      <th>...</th>\n",
       "      <th>RISK_MM</th>\n",
       "      <th>loc_lat</th>\n",
       "      <th>loc_long</th>\n",
       "      <th>Y</th>\n",
       "      <th>M</th>\n",
       "      <th>D</th>\n",
       "      <th>w1</th>\n",
       "      <th>w2</th>\n",
       "      <th>l1</th>\n",
       "      <th>l2</th>\n",
       "    </tr>\n",
       "  </thead>\n",
       "  <tbody>\n",
       "    <tr>\n",
       "      <th>0</th>\n",
       "      <td>19.5</td>\n",
       "      <td>23.741634</td>\n",
       "      <td>5.694960</td>\n",
       "      <td>0.500000</td>\n",
       "      <td>61.0</td>\n",
       "      <td>31.000000</td>\n",
       "      <td>22.000000</td>\n",
       "      <td>86.641375</td>\n",
       "      <td>41.810006</td>\n",
       "      <td>1020.400000</td>\n",
       "      <td>...</td>\n",
       "      <td>1.772145</td>\n",
       "      <td>-32.415048</td>\n",
       "      <td>141.595767</td>\n",
       "      <td>2016</td>\n",
       "      <td>7</td>\n",
       "      <td>19</td>\n",
       "      <td>-0.084133</td>\n",
       "      <td>-0.689081</td>\n",
       "      <td>-0.004442</td>\n",
       "      <td>-0.002218</td>\n",
       "    </tr>\n",
       "    <tr>\n",
       "      <th>1</th>\n",
       "      <td>2.1</td>\n",
       "      <td>15.700000</td>\n",
       "      <td>5.701668</td>\n",
       "      <td>5.700000</td>\n",
       "      <td>26.0</td>\n",
       "      <td>9.000000</td>\n",
       "      <td>7.000000</td>\n",
       "      <td>53.275715</td>\n",
       "      <td>76.598048</td>\n",
       "      <td>1023.700000</td>\n",
       "      <td>...</td>\n",
       "      <td>0.000000</td>\n",
       "      <td>-35.297591</td>\n",
       "      <td>149.101268</td>\n",
       "      <td>2010</td>\n",
       "      <td>7</td>\n",
       "      <td>26</td>\n",
       "      <td>-0.599154</td>\n",
       "      <td>-0.588789</td>\n",
       "      <td>0.928315</td>\n",
       "      <td>0.008584</td>\n",
       "    </tr>\n",
       "    <tr>\n",
       "      <th>2</th>\n",
       "      <td>20.9</td>\n",
       "      <td>36.100000</td>\n",
       "      <td>5.694960</td>\n",
       "      <td>8.003251</td>\n",
       "      <td>39.0</td>\n",
       "      <td>31.000000</td>\n",
       "      <td>17.000000</td>\n",
       "      <td>15.471574</td>\n",
       "      <td>52.163254</td>\n",
       "      <td>1017.100000</td>\n",
       "      <td>...</td>\n",
       "      <td>0.000000</td>\n",
       "      <td>-31.199914</td>\n",
       "      <td>136.825353</td>\n",
       "      <td>2014</td>\n",
       "      <td>4</td>\n",
       "      <td>2</td>\n",
       "      <td>-0.572725</td>\n",
       "      <td>0.788592</td>\n",
       "      <td>-0.053274</td>\n",
       "      <td>0.816967</td>\n",
       "    </tr>\n",
       "    <tr>\n",
       "      <th>3</th>\n",
       "      <td>11.5</td>\n",
       "      <td>23.900000</td>\n",
       "      <td>5.694960</td>\n",
       "      <td>7.993227</td>\n",
       "      <td>35.0</td>\n",
       "      <td>7.000000</td>\n",
       "      <td>17.000000</td>\n",
       "      <td>46.442398</td>\n",
       "      <td>67.664733</td>\n",
       "      <td>1010.200000</td>\n",
       "      <td>...</td>\n",
       "      <td>0.200000</td>\n",
       "      <td>-35.420977</td>\n",
       "      <td>149.092134</td>\n",
       "      <td>2014</td>\n",
       "      <td>11</td>\n",
       "      <td>19</td>\n",
       "      <td>0.352503</td>\n",
       "      <td>0.361175</td>\n",
       "      <td>-0.018196</td>\n",
       "      <td>-0.021029</td>\n",
       "    </tr>\n",
       "    <tr>\n",
       "      <th>4</th>\n",
       "      <td>8.2</td>\n",
       "      <td>20.500000</td>\n",
       "      <td>3.200000</td>\n",
       "      <td>8.003251</td>\n",
       "      <td>69.0</td>\n",
       "      <td>13.739091</td>\n",
       "      <td>18.424823</td>\n",
       "      <td>51.830889</td>\n",
       "      <td>51.770240</td>\n",
       "      <td>1018.043992</td>\n",
       "      <td>...</td>\n",
       "      <td>0.600000</td>\n",
       "      <td>-42.882509</td>\n",
       "      <td>147.328123</td>\n",
       "      <td>2012</td>\n",
       "      <td>6</td>\n",
       "      <td>2</td>\n",
       "      <td>1.268578</td>\n",
       "      <td>-0.562173</td>\n",
       "      <td>0.044926</td>\n",
       "      <td>-0.187193</td>\n",
       "    </tr>\n",
       "  </tbody>\n",
       "</table>\n",
       "<p>5 rows × 26 columns</p>\n",
       "</div>"
      ],
      "text/plain": [
       "   TempLow   TempHigh  Steaming       Sun  WindSpeed  DayWindSpeed  \\\n",
       "0     19.5  23.741634  5.694960  0.500000       61.0     31.000000   \n",
       "1      2.1  15.700000  5.701668  5.700000       26.0      9.000000   \n",
       "2     20.9  36.100000  5.694960  8.003251       39.0     31.000000   \n",
       "3     11.5  23.900000  5.694960  7.993227       35.0      7.000000   \n",
       "4      8.2  20.500000  3.200000  8.003251       69.0     13.739091   \n",
       "\n",
       "   NightWindSpeed  DayHumidity  NightHumidity  DayPressure  ...   RISK_MM  \\\n",
       "0       22.000000    86.641375      41.810006  1020.400000  ...  1.772145   \n",
       "1        7.000000    53.275715      76.598048  1023.700000  ...  0.000000   \n",
       "2       17.000000    15.471574      52.163254  1017.100000  ...  0.000000   \n",
       "3       17.000000    46.442398      67.664733  1010.200000  ...  0.200000   \n",
       "4       18.424823    51.830889      51.770240  1018.043992  ...  0.600000   \n",
       "\n",
       "     loc_lat    loc_long     Y   M   D        w1        w2        l1        l2  \n",
       "0 -32.415048  141.595767  2016   7  19 -0.084133 -0.689081 -0.004442 -0.002218  \n",
       "1 -35.297591  149.101268  2010   7  26 -0.599154 -0.588789  0.928315  0.008584  \n",
       "2 -31.199914  136.825353  2014   4   2 -0.572725  0.788592 -0.053274  0.816967  \n",
       "3 -35.420977  149.092134  2014  11  19  0.352503  0.361175 -0.018196 -0.021029  \n",
       "4 -42.882509  147.328123  2012   6   2  1.268578 -0.562173  0.044926 -0.187193  \n",
       "\n",
       "[5 rows x 26 columns]"
      ]
     },
     "execution_count": 14,
     "metadata": {},
     "output_type": "execute_result"
    }
   ],
   "source": [
    "df.head()"
   ]
  },
  {
   "cell_type": "markdown",
   "metadata": {},
   "source": [
    "# train"
   ]
  },
  {
   "cell_type": "code",
   "execution_count": 15,
   "metadata": {},
   "outputs": [],
   "source": [
    "X_train, X_val, y_train, y_val = train_test_split(\n",
    "    df.drop(columns = ['Weather']).values[:train_end_idx],\n",
    "    df['Weather'].values[:train_end_idx], test_size=0.25, shuffle=True, random_state=42)\n",
    "X_test = df.drop(columns = ['Weather']).values[train_end_idx:, :]"
   ]
  },
  {
   "cell_type": "code",
   "execution_count": 16,
   "metadata": {},
   "outputs": [],
   "source": [
    "sc = StandardScaler()\n",
    "sc.fit(X_train)\n",
    "X_train = sc.transform(X_train)\n",
    "X_val = sc.transform(X_val)\n",
    "X_test = sc.transform(X_test)"
   ]
  },
  {
   "cell_type": "code",
   "execution_count": 17,
   "metadata": {},
   "outputs": [],
   "source": [
    "# sm = SMOTE(random_state=42)\n",
    "# X_train, y_train = sm.fit_resample(X_train, y_train)"
   ]
  },
  {
   "cell_type": "code",
   "execution_count": 18,
   "metadata": {},
   "outputs": [],
   "source": [
    "tl = TomekLinks(sampling_strategy='majority')\n",
    "X_train, y_train=tl.fit_resample(X_train, y_train)"
   ]
  },
  {
   "cell_type": "code",
   "execution_count": 19,
   "metadata": {},
   "outputs": [
    {
     "name": "stdout",
     "output_type": "stream",
     "text": [
      "(25800, 25)\n",
      "(25800,)\n",
      "(8789, 25)\n",
      "(8789,)\n",
      "(34844, 25)\n"
     ]
    }
   ],
   "source": [
    "print(X_train.shape)\n",
    "print(y_train.shape)\n",
    "print(X_val.shape)\n",
    "print(y_val.shape)\n",
    "print(X_test.shape)"
   ]
  },
  {
   "cell_type": "code",
   "execution_count": 35,
   "metadata": {},
   "outputs": [
    {
     "name": "stdout",
     "output_type": "stream",
     "text": [
      "f1-score: 0.473709\n"
     ]
    }
   ],
   "source": [
    "model = LGBMClassifier(max_depth=12, \n",
    "                       n_estimators=300, \n",
    "                       scale_pos_weight=4, \n",
    "                       num_leaves=20,\n",
    "                       )\n",
    "\n",
    "model.fit(X_train, y_train)\n",
    "# y_pred_decision = model.predict(X_train)\n",
    "# print('f1-score: %f' % f1_score(y_train, y_pred_decision))\n",
    "y_pred_decision = model.predict(X_val)\n",
    "print('f1-score: %f' % f1_score(y_val, y_pred_decision))"
   ]
  },
  {
   "cell_type": "code",
   "execution_count": 21,
   "metadata": {},
   "outputs": [],
   "source": [
    "ans_pred = model.predict(X_test)\n",
    "ans_pred = (ans_pred+1)/2\n",
    "df_sap = pd.DataFrame(ans_pred.astype(int), columns = ['Weather'])\n",
    "df_sap.to_csv('myAns.csv',  index_label = 'Id')"
   ]
  },
  {
   "cell_type": "code",
   "execution_count": 29,
   "metadata": {},
   "outputs": [
    {
     "data": {
      "text/plain": [
       "<AxesSubplot:title={'center':'Feature importance'}, xlabel='Feature importance', ylabel='Features'>"
      ]
     },
     "execution_count": 29,
     "metadata": {},
     "output_type": "execute_result"
    },
    {
     "data": {
      "image/png": "[encoded data removed]",
      "text/plain": [
       "<Figure size 1000x900 with 1 Axes>"
      ]
     },
     "metadata": {},
     "output_type": "display_data"
    }
   ],
   "source": [
    "from lightgbm import LGBMClassifier, plot_importance \n",
    "plot_importance(model, figsize=(10, 9))"
   ]
  },
  {
   "cell_type": "code",
   "execution_count": 34,
   "metadata": {},
   "outputs": [
    {
     "data": {
      "text/plain": [
       "'D'"
      ]
     },
     "execution_count": 34,
     "metadata": {},
     "output_type": "execute_result"
    }
   ],
   "source": [
    "df.columns[21]"
   ]
  },
  {
   "cell_type": "code",
   "execution_count": 24,
   "metadata": {},
   "outputs": [],
   "source": [
    "# less_importance_feature = [24, 21, 22, 18]\n",
    "# for i in less_importance_feature:\n",
    "#     print(df.columns[i])"
   ]
  },
  {
   "cell_type": "code",
   "execution_count": null,
   "metadata": {},
   "outputs": [],
   "source": []
  }
 ],
 "metadata": {
  "kernelspec": {
   "display_name": "Python 3 (ipykernel)",
   "language": "python",
   "name": "python3"
  },
  "language_info": {
   "codemirror_mode": {
    "name": "ipython",
    "version": 3
   },
   "file_extension": ".py",
   "mimetype": "text/x-python",
   "name": "python",
   "nbconvert_exporter": "python",
   "pygments_lexer": "ipython3",
   "version": "3.9.13"
  }
 },
 "nbformat": 4,
 "nbformat_minor": 2
}
