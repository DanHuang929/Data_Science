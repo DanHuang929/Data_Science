{
 "cells": [
  {
   "cell_type": "code",
   "execution_count": 1,
   "metadata": {},
   "outputs": [],
   "source": [
    "from sklearn.tree import DecisionTreeClassifier\n",
    "from sklearn.metrics import accuracy_score, f1_score\n",
    "import matplotlib.pylab as plt\n",
    "import pandas as pd\n",
    "import numpy as np\n",
    "from sklearn.preprocessing import OneHotEncoder\n",
    "from sklearn.metrics import classification_report,confusion_matrix"
   ]
  },
  {
   "cell_type": "code",
   "execution_count": 2,
   "metadata": {},
   "outputs": [],
   "source": [
    "import seaborn as sns"
   ]
  },
  {
   "cell_type": "markdown",
   "metadata": {},
   "source": [
    "## Model"
   ]
  },
  {
   "cell_type": "code",
   "execution_count": 3,
   "metadata": {},
   "outputs": [],
   "source": [
    "from xgboost import XGBClassifier\n",
    "import lightgbm as lgb\n",
    "import catboost as cab"
   ]
  },
  {
   "cell_type": "markdown",
   "metadata": {},
   "source": [
    "## Input data"
   ]
  },
  {
   "cell_type": "code",
   "execution_count": 4,
   "metadata": {},
   "outputs": [],
   "source": [
    "train_df =  pd.read_csv('train.csv', sep=',', engine='python')\n",
    "df_test = pd.read_csv('test.csv')\n",
    "df_test['Weather'] = np.zeros((len(df_test),))"
   ]
  },
  {
   "cell_type": "markdown",
   "metadata": {},
   "source": [
    "### Dir Maerge"
   ]
  },
  {
   "cell_type": "code",
   "execution_count": 5,
   "metadata": {},
   "outputs": [],
   "source": [
    "train_end_id = len(train_df)\n",
    "df = pd.concat([train_df, df_test ], sort=False, ignore_index=True)"
   ]
  },
  {
   "cell_type": "code",
   "execution_count": 7,
   "metadata": {},
   "outputs": [],
   "source": [
    "list_lat = np.load('list_lat.npy',allow_pickle='TRUE').item()\n",
    "list_long = np.load('list_long.npy',allow_pickle='TRUE').item()"
   ]
  },
  {
   "cell_type": "code",
   "execution_count": 8,
   "metadata": {},
   "outputs": [],
   "source": [
    "df['loc_lat']=df['Loc'].map(list_lat)\n",
    "df['loc_long']=df['Loc'].map(list_long)"
   ]
  },
  {
   "cell_type": "markdown",
   "metadata": {},
   "source": [
    "### Processing Date"
   ]
  },
  {
   "cell_type": "code",
   "execution_count": 141,
   "metadata": {},
   "outputs": [],
   "source": [
    "df_loc=df.copy()"
   ]
  },
  {
   "cell_type": "code",
   "execution_count": 142,
   "metadata": {},
   "outputs": [],
   "source": [
    "df_loc['Date']=df_loc['Date'].fillna(\"0\")"
   ]
  },
  {
   "cell_type": "code",
   "execution_count": 143,
   "metadata": {},
   "outputs": [],
   "source": [
    "def replace_string(x):\n",
    "    if(x!=\"0\"):\n",
    "        tmp=x.split(\"/\")\n",
    "        #print(tmp)\n",
    "        rx=int(tmp[0])*10000+int(tmp[1])*100+int(tmp[2])\n",
    "        return rx\n",
    "    else:\n",
    "        return int(x)"
   ]
  },
  {
   "cell_type": "code",
   "execution_count": 144,
   "metadata": {},
   "outputs": [],
   "source": [
    "df_loc['Date']=df_loc['Date'].apply(lambda x: replace_string(x))\n",
    "df_loc['Date']=df_loc['Date'].replace(0,np.nan)"
   ]
  },
  {
   "cell_type": "markdown",
   "metadata": {},
   "source": [
    "###### Testing"
   ]
  },
  {
   "cell_type": "code",
   "execution_count": 145,
   "metadata": {},
   "outputs": [
    {
     "data": {
      "text/html": [
       "<div>\n",
       "<style scoped>\n",
       "    .dataframe tbody tr th:only-of-type {\n",
       "        vertical-align: middle;\n",
       "    }\n",
       "\n",
       "    .dataframe tbody tr th {\n",
       "        vertical-align: top;\n",
       "    }\n",
       "\n",
       "    .dataframe thead th {\n",
       "        text-align: right;\n",
       "    }\n",
       "</style>\n",
       "<table border=\"1\" class=\"dataframe\">\n",
       "  <thead>\n",
       "    <tr style=\"text-align: right;\">\n",
       "      <th></th>\n",
       "      <th>Date</th>\n",
       "      <th>Loc</th>\n",
       "      <th>TempLow</th>\n",
       "      <th>TempHigh</th>\n",
       "      <th>Steaming</th>\n",
       "      <th>Sun</th>\n",
       "      <th>WindDir</th>\n",
       "      <th>WindSpeed</th>\n",
       "      <th>DayWindDir</th>\n",
       "      <th>NightWindDir</th>\n",
       "      <th>...</th>\n",
       "      <th>DayPressure</th>\n",
       "      <th>NightPressure</th>\n",
       "      <th>DayCloud</th>\n",
       "      <th>NightCloud</th>\n",
       "      <th>DayTemp</th>\n",
       "      <th>NightTemp</th>\n",
       "      <th>Weather</th>\n",
       "      <th>RISK_MM</th>\n",
       "      <th>loc_lat</th>\n",
       "      <th>loc_long</th>\n",
       "    </tr>\n",
       "  </thead>\n",
       "  <tbody>\n",
       "    <tr>\n",
       "      <th>503</th>\n",
       "      <td>20130403.0</td>\n",
       "      <td>NaN</td>\n",
       "      <td>NaN</td>\n",
       "      <td>NaN</td>\n",
       "      <td>NaN</td>\n",
       "      <td>NaN</td>\n",
       "      <td>NNW</td>\n",
       "      <td>NaN</td>\n",
       "      <td>ESE</td>\n",
       "      <td>NaN</td>\n",
       "      <td>...</td>\n",
       "      <td>NaN</td>\n",
       "      <td>1001.6</td>\n",
       "      <td>6.0</td>\n",
       "      <td>NaN</td>\n",
       "      <td>31.5</td>\n",
       "      <td>NaN</td>\n",
       "      <td>0.0</td>\n",
       "      <td>0.0</td>\n",
       "      <td>NaN</td>\n",
       "      <td>NaN</td>\n",
       "    </tr>\n",
       "  </tbody>\n",
       "</table>\n",
       "<p>1 rows × 24 columns</p>\n",
       "</div>"
      ],
      "text/plain": [
       "           Date  Loc  TempLow  TempHigh  Steaming  Sun WindDir  WindSpeed  \\\n",
       "503  20130403.0  NaN      NaN       NaN       NaN  NaN     NNW        NaN   \n",
       "\n",
       "    DayWindDir NightWindDir  ...  DayPressure  NightPressure  DayCloud  \\\n",
       "503        ESE          NaN  ...          NaN         1001.6       6.0   \n",
       "\n",
       "     NightCloud  DayTemp  NightTemp  Weather  RISK_MM  loc_lat  loc_long  \n",
       "503         NaN     31.5        NaN      0.0      0.0      NaN       NaN  \n",
       "\n",
       "[1 rows x 24 columns]"
      ]
     },
     "execution_count": 145,
     "metadata": {},
     "output_type": "execute_result"
    }
   ],
   "source": [
    "df_loc.loc[[503],:]"
   ]
  },
  {
   "cell_type": "markdown",
   "metadata": {},
   "source": [
    "#### Drop directions"
   ]
  },
  {
   "cell_type": "code",
   "execution_count": 146,
   "metadata": {},
   "outputs": [],
   "source": [
    "df_preprocessed=df_loc.copy()"
   ]
  },
  {
   "cell_type": "code",
   "execution_count": 147,
   "metadata": {},
   "outputs": [],
   "source": [
    "cols = [\"WindDir\",\"DayWindDir\",\"NightWindDir\"]\n",
    "for item in cols:\n",
    "    df_preprocessed[item] = df_loc[item].astype(\"category\").cat.codes +1"
   ]
  },
  {
   "cell_type": "code",
   "execution_count": 148,
   "metadata": {},
   "outputs": [],
   "source": [
    "df_preprocessed=df_preprocessed.drop(columns = ['Loc',\"DayWindDir\",\"NightWindDir\"])"
   ]
  },
  {
   "cell_type": "markdown",
   "metadata": {},
   "source": [
    "#### One"
   ]
  },
  {
   "cell_type": "code",
   "execution_count": 149,
   "metadata": {},
   "outputs": [],
   "source": [
    "df_preprocessed = pd.get_dummies(df_preprocessed)"
   ]
  },
  {
   "cell_type": "code",
   "execution_count": 150,
   "metadata": {},
   "outputs": [],
   "source": [
    "df_preprocessed = df_preprocessed.fillna(df_preprocessed.median())"
   ]
  },
  {
   "cell_type": "markdown",
   "metadata": {},
   "source": [
    "### Imputation of Missing"
   ]
  },
  {
   "cell_type": "code",
   "execution_count": 90,
   "metadata": {},
   "outputs": [
    {
     "data": {
      "text/html": [
       "<div>\n",
       "<style scoped>\n",
       "    .dataframe tbody tr th:only-of-type {\n",
       "        vertical-align: middle;\n",
       "    }\n",
       "\n",
       "    .dataframe tbody tr th {\n",
       "        vertical-align: top;\n",
       "    }\n",
       "\n",
       "    .dataframe thead th {\n",
       "        text-align: right;\n",
       "    }\n",
       "</style>\n",
       "<table border=\"1\" class=\"dataframe\">\n",
       "  <thead>\n",
       "    <tr style=\"text-align: right;\">\n",
       "      <th></th>\n",
       "      <th>Date</th>\n",
       "      <th>TempLow</th>\n",
       "      <th>TempHigh</th>\n",
       "      <th>Steaming</th>\n",
       "      <th>Sun</th>\n",
       "      <th>WindDir</th>\n",
       "      <th>WindSpeed</th>\n",
       "      <th>DayWindSpeed</th>\n",
       "      <th>NightWindSpeed</th>\n",
       "      <th>DayHumidity</th>\n",
       "      <th>...</th>\n",
       "      <th>DayPressure</th>\n",
       "      <th>NightPressure</th>\n",
       "      <th>DayCloud</th>\n",
       "      <th>NightCloud</th>\n",
       "      <th>DayTemp</th>\n",
       "      <th>NightTemp</th>\n",
       "      <th>Weather</th>\n",
       "      <th>RISK_MM</th>\n",
       "      <th>loc_lat</th>\n",
       "      <th>loc_long</th>\n",
       "    </tr>\n",
       "  </thead>\n",
       "  <tbody>\n",
       "    <tr>\n",
       "      <th>0</th>\n",
       "      <td>20160719.0</td>\n",
       "      <td>19.5</td>\n",
       "      <td>23.3</td>\n",
       "      <td>5.69496</td>\n",
       "      <td>0.500000</td>\n",
       "      <td>2</td>\n",
       "      <td>61.0</td>\n",
       "      <td>31.0</td>\n",
       "      <td>22.000000</td>\n",
       "      <td>86.641375</td>\n",
       "      <td>...</td>\n",
       "      <td>1020.40000</td>\n",
       "      <td>1021.900000</td>\n",
       "      <td>4.167266</td>\n",
       "      <td>7.00000</td>\n",
       "      <td>17.0</td>\n",
       "      <td>19.6</td>\n",
       "      <td>0.0</td>\n",
       "      <td>0.0</td>\n",
       "      <td>-34.424394</td>\n",
       "      <td>145.083635</td>\n",
       "    </tr>\n",
       "    <tr>\n",
       "      <th>1</th>\n",
       "      <td>20100726.0</td>\n",
       "      <td>2.1</td>\n",
       "      <td>15.7</td>\n",
       "      <td>5.69496</td>\n",
       "      <td>5.700000</td>\n",
       "      <td>1</td>\n",
       "      <td>26.0</td>\n",
       "      <td>9.0</td>\n",
       "      <td>7.000000</td>\n",
       "      <td>53.275715</td>\n",
       "      <td>...</td>\n",
       "      <td>1023.70000</td>\n",
       "      <td>1020.800000</td>\n",
       "      <td>4.000000</td>\n",
       "      <td>1.00000</td>\n",
       "      <td>9.0</td>\n",
       "      <td>14.1</td>\n",
       "      <td>0.0</td>\n",
       "      <td>0.0</td>\n",
       "      <td>-35.297591</td>\n",
       "      <td>149.101268</td>\n",
       "    </tr>\n",
       "    <tr>\n",
       "      <th>2</th>\n",
       "      <td>20140402.0</td>\n",
       "      <td>20.9</td>\n",
       "      <td>36.1</td>\n",
       "      <td>5.69496</td>\n",
       "      <td>7.993227</td>\n",
       "      <td>9</td>\n",
       "      <td>39.0</td>\n",
       "      <td>31.0</td>\n",
       "      <td>17.000000</td>\n",
       "      <td>15.471574</td>\n",
       "      <td>...</td>\n",
       "      <td>1017.10000</td>\n",
       "      <td>1014.900000</td>\n",
       "      <td>4.167266</td>\n",
       "      <td>4.27812</td>\n",
       "      <td>24.2</td>\n",
       "      <td>33.9</td>\n",
       "      <td>0.0</td>\n",
       "      <td>0.0</td>\n",
       "      <td>-31.199914</td>\n",
       "      <td>136.825353</td>\n",
       "    </tr>\n",
       "    <tr>\n",
       "      <th>3</th>\n",
       "      <td>20141119.0</td>\n",
       "      <td>11.5</td>\n",
       "      <td>23.9</td>\n",
       "      <td>5.69496</td>\n",
       "      <td>7.993227</td>\n",
       "      <td>6</td>\n",
       "      <td>35.0</td>\n",
       "      <td>7.0</td>\n",
       "      <td>17.000000</td>\n",
       "      <td>46.442398</td>\n",
       "      <td>...</td>\n",
       "      <td>1010.20000</td>\n",
       "      <td>1015.465952</td>\n",
       "      <td>4.167266</td>\n",
       "      <td>4.27812</td>\n",
       "      <td>13.8</td>\n",
       "      <td>21.8</td>\n",
       "      <td>1.0</td>\n",
       "      <td>0.2</td>\n",
       "      <td>-35.420977</td>\n",
       "      <td>149.092134</td>\n",
       "    </tr>\n",
       "    <tr>\n",
       "      <th>4</th>\n",
       "      <td>20130528.0</td>\n",
       "      <td>8.2</td>\n",
       "      <td>20.5</td>\n",
       "      <td>3.20000</td>\n",
       "      <td>7.993227</td>\n",
       "      <td>4</td>\n",
       "      <td>69.0</td>\n",
       "      <td>13.0</td>\n",
       "      <td>18.435879</td>\n",
       "      <td>51.830889</td>\n",
       "      <td>...</td>\n",
       "      <td>1018.03427</td>\n",
       "      <td>1001.200000</td>\n",
       "      <td>7.000000</td>\n",
       "      <td>7.00000</td>\n",
       "      <td>17.0</td>\n",
       "      <td>17.6</td>\n",
       "      <td>0.0</td>\n",
       "      <td>0.6</td>\n",
       "      <td>-42.882509</td>\n",
       "      <td>147.328123</td>\n",
       "    </tr>\n",
       "    <tr>\n",
       "      <th>...</th>\n",
       "      <td>...</td>\n",
       "      <td>...</td>\n",
       "      <td>...</td>\n",
       "      <td>...</td>\n",
       "      <td>...</td>\n",
       "      <td>...</td>\n",
       "      <td>...</td>\n",
       "      <td>...</td>\n",
       "      <td>...</td>\n",
       "      <td>...</td>\n",
       "      <td>...</td>\n",
       "      <td>...</td>\n",
       "      <td>...</td>\n",
       "      <td>...</td>\n",
       "      <td>...</td>\n",
       "      <td>...</td>\n",
       "      <td>...</td>\n",
       "      <td>...</td>\n",
       "      <td>...</td>\n",
       "      <td>...</td>\n",
       "      <td>...</td>\n",
       "    </tr>\n",
       "    <tr>\n",
       "      <th>69995</th>\n",
       "      <td>20111227.0</td>\n",
       "      <td>9.6</td>\n",
       "      <td>21.5</td>\n",
       "      <td>8.00000</td>\n",
       "      <td>12.000000</td>\n",
       "      <td>12</td>\n",
       "      <td>31.0</td>\n",
       "      <td>17.0</td>\n",
       "      <td>9.000000</td>\n",
       "      <td>39.878487</td>\n",
       "      <td>...</td>\n",
       "      <td>1024.50000</td>\n",
       "      <td>1022.800000</td>\n",
       "      <td>0.000000</td>\n",
       "      <td>6.00000</td>\n",
       "      <td>14.3</td>\n",
       "      <td>19.0</td>\n",
       "      <td>0.0</td>\n",
       "      <td>0.0</td>\n",
       "      <td>-34.424394</td>\n",
       "      <td>145.083635</td>\n",
       "    </tr>\n",
       "    <tr>\n",
       "      <th>69996</th>\n",
       "      <td>20130528.0</td>\n",
       "      <td>11.6</td>\n",
       "      <td>31.4</td>\n",
       "      <td>5.69496</td>\n",
       "      <td>7.993227</td>\n",
       "      <td>6</td>\n",
       "      <td>39.0</td>\n",
       "      <td>7.0</td>\n",
       "      <td>18.435879</td>\n",
       "      <td>52.307109</td>\n",
       "      <td>...</td>\n",
       "      <td>1019.10000</td>\n",
       "      <td>1016.300000</td>\n",
       "      <td>4.167266</td>\n",
       "      <td>4.27812</td>\n",
       "      <td>19.3</td>\n",
       "      <td>21.8</td>\n",
       "      <td>0.0</td>\n",
       "      <td>0.0</td>\n",
       "      <td>-35.297591</td>\n",
       "      <td>149.101268</td>\n",
       "    </tr>\n",
       "    <tr>\n",
       "      <th>69997</th>\n",
       "      <td>20110122.0</td>\n",
       "      <td>22.2</td>\n",
       "      <td>34.5</td>\n",
       "      <td>5.69496</td>\n",
       "      <td>7.600000</td>\n",
       "      <td>6</td>\n",
       "      <td>39.0</td>\n",
       "      <td>26.0</td>\n",
       "      <td>18.435879</td>\n",
       "      <td>30.743840</td>\n",
       "      <td>...</td>\n",
       "      <td>1018.03427</td>\n",
       "      <td>1008.500000</td>\n",
       "      <td>7.000000</td>\n",
       "      <td>7.00000</td>\n",
       "      <td>25.2</td>\n",
       "      <td>21.8</td>\n",
       "      <td>0.0</td>\n",
       "      <td>0.0</td>\n",
       "      <td>-29.461720</td>\n",
       "      <td>149.840715</td>\n",
       "    </tr>\n",
       "    <tr>\n",
       "      <th>69998</th>\n",
       "      <td>20101002.0</td>\n",
       "      <td>16.4</td>\n",
       "      <td>43.5</td>\n",
       "      <td>7.00000</td>\n",
       "      <td>12.700000</td>\n",
       "      <td>2</td>\n",
       "      <td>43.0</td>\n",
       "      <td>19.0</td>\n",
       "      <td>19.000000</td>\n",
       "      <td>28.084916</td>\n",
       "      <td>...</td>\n",
       "      <td>1014.20000</td>\n",
       "      <td>1010.500000</td>\n",
       "      <td>0.000000</td>\n",
       "      <td>4.27812</td>\n",
       "      <td>28.9</td>\n",
       "      <td>21.8</td>\n",
       "      <td>0.0</td>\n",
       "      <td>0.0</td>\n",
       "      <td>-34.184726</td>\n",
       "      <td>142.162497</td>\n",
       "    </tr>\n",
       "    <tr>\n",
       "      <th>69999</th>\n",
       "      <td>20090116.0</td>\n",
       "      <td>6.9</td>\n",
       "      <td>23.3</td>\n",
       "      <td>6.60000</td>\n",
       "      <td>10.600000</td>\n",
       "      <td>5</td>\n",
       "      <td>39.0</td>\n",
       "      <td>13.0</td>\n",
       "      <td>19.000000</td>\n",
       "      <td>30.948435</td>\n",
       "      <td>...</td>\n",
       "      <td>1017.80000</td>\n",
       "      <td>1011.800000</td>\n",
       "      <td>4.167266</td>\n",
       "      <td>4.27812</td>\n",
       "      <td>19.4</td>\n",
       "      <td>21.8</td>\n",
       "      <td>0.0</td>\n",
       "      <td>0.0</td>\n",
       "      <td>-32.815000</td>\n",
       "      <td>151.842778</td>\n",
       "    </tr>\n",
       "  </tbody>\n",
       "</table>\n",
       "<p>70000 rows × 21 columns</p>\n",
       "</div>"
      ],
      "text/plain": [
       "             Date  TempLow  TempHigh  Steaming        Sun  WindDir  WindSpeed  \\\n",
       "0      20160719.0     19.5      23.3   5.69496   0.500000        2       61.0   \n",
       "1      20100726.0      2.1      15.7   5.69496   5.700000        1       26.0   \n",
       "2      20140402.0     20.9      36.1   5.69496   7.993227        9       39.0   \n",
       "3      20141119.0     11.5      23.9   5.69496   7.993227        6       35.0   \n",
       "4      20130528.0      8.2      20.5   3.20000   7.993227        4       69.0   \n",
       "...           ...      ...       ...       ...        ...      ...        ...   \n",
       "69995  20111227.0      9.6      21.5   8.00000  12.000000       12       31.0   \n",
       "69996  20130528.0     11.6      31.4   5.69496   7.993227        6       39.0   \n",
       "69997  20110122.0     22.2      34.5   5.69496   7.600000        6       39.0   \n",
       "69998  20101002.0     16.4      43.5   7.00000  12.700000        2       43.0   \n",
       "69999  20090116.0      6.9      23.3   6.60000  10.600000        5       39.0   \n",
       "\n",
       "       DayWindSpeed  NightWindSpeed  DayHumidity  ...  DayPressure  \\\n",
       "0              31.0       22.000000    86.641375  ...   1020.40000   \n",
       "1               9.0        7.000000    53.275715  ...   1023.70000   \n",
       "2              31.0       17.000000    15.471574  ...   1017.10000   \n",
       "3               7.0       17.000000    46.442398  ...   1010.20000   \n",
       "4              13.0       18.435879    51.830889  ...   1018.03427   \n",
       "...             ...             ...          ...  ...          ...   \n",
       "69995          17.0        9.000000    39.878487  ...   1024.50000   \n",
       "69996           7.0       18.435879    52.307109  ...   1019.10000   \n",
       "69997          26.0       18.435879    30.743840  ...   1018.03427   \n",
       "69998          19.0       19.000000    28.084916  ...   1014.20000   \n",
       "69999          13.0       19.000000    30.948435  ...   1017.80000   \n",
       "\n",
       "       NightPressure  DayCloud  NightCloud  DayTemp  NightTemp  Weather  \\\n",
       "0        1021.900000  4.167266     7.00000     17.0       19.6      0.0   \n",
       "1        1020.800000  4.000000     1.00000      9.0       14.1      0.0   \n",
       "2        1014.900000  4.167266     4.27812     24.2       33.9      0.0   \n",
       "3        1015.465952  4.167266     4.27812     13.8       21.8      1.0   \n",
       "4        1001.200000  7.000000     7.00000     17.0       17.6      0.0   \n",
       "...              ...       ...         ...      ...        ...      ...   \n",
       "69995    1022.800000  0.000000     6.00000     14.3       19.0      0.0   \n",
       "69996    1016.300000  4.167266     4.27812     19.3       21.8      0.0   \n",
       "69997    1008.500000  7.000000     7.00000     25.2       21.8      0.0   \n",
       "69998    1010.500000  0.000000     4.27812     28.9       21.8      0.0   \n",
       "69999    1011.800000  4.167266     4.27812     19.4       21.8      0.0   \n",
       "\n",
       "       RISK_MM    loc_lat    loc_long  \n",
       "0          0.0 -34.424394  145.083635  \n",
       "1          0.0 -35.297591  149.101268  \n",
       "2          0.0 -31.199914  136.825353  \n",
       "3          0.2 -35.420977  149.092134  \n",
       "4          0.6 -42.882509  147.328123  \n",
       "...        ...        ...         ...  \n",
       "69995      0.0 -34.424394  145.083635  \n",
       "69996      0.0 -35.297591  149.101268  \n",
       "69997      0.0 -29.461720  149.840715  \n",
       "69998      0.0 -34.184726  142.162497  \n",
       "69999      0.0 -32.815000  151.842778  \n",
       "\n",
       "[70000 rows x 21 columns]"
      ]
     },
     "execution_count": 90,
     "metadata": {},
     "output_type": "execute_result"
    }
   ],
   "source": [
    "df_preprocessed"
   ]
  },
  {
   "cell_type": "markdown",
   "metadata": {},
   "source": [
    "### Other"
   ]
  },
  {
   "cell_type": "code",
   "execution_count": 91,
   "metadata": {},
   "outputs": [],
   "source": [
    "from sklearn.impute import KNNImputer"
   ]
  },
  {
   "cell_type": "code",
   "execution_count": 92,
   "metadata": {},
   "outputs": [],
   "source": [
    "imputer = KNNImputer()"
   ]
  },
  {
   "cell_type": "code",
   "execution_count": 93,
   "metadata": {},
   "outputs": [
    {
     "data": {
      "text/plain": [
       "KNNImputer()"
      ]
     },
     "execution_count": 93,
     "metadata": {},
     "output_type": "execute_result"
    }
   ],
   "source": [
    "imputer.fit(df_preprocessed)"
   ]
  },
  {
   "cell_type": "code",
   "execution_count": 94,
   "metadata": {},
   "outputs": [],
   "source": [
    "df_preprocessed_kn: pd.DataFrame = imputer.transform(df_preprocessed)"
   ]
  },
  {
   "cell_type": "code",
   "execution_count": 95,
   "metadata": {},
   "outputs": [],
   "source": [
    "df_preprocessed_kn: pd.DataFrame=df_preprocessed_kn"
   ]
  },
  {
   "cell_type": "code",
   "execution_count": 96,
   "metadata": {},
   "outputs": [
    {
     "data": {
      "text/plain": [
       "Index(['Date', 'TempLow', 'TempHigh', 'Steaming', 'Sun', 'WindDir',\n",
       "       'WindSpeed', 'DayWindSpeed', 'NightWindSpeed', 'DayHumidity',\n",
       "       'NightHumidity', 'DayPressure', 'NightPressure', 'DayCloud',\n",
       "       'NightCloud', 'DayTemp', 'NightTemp', 'Weather', 'RISK_MM', 'loc_lat',\n",
       "       'loc_long'],\n",
       "      dtype='object')"
      ]
     },
     "execution_count": 96,
     "metadata": {},
     "output_type": "execute_result"
    }
   ],
   "source": [
    "df_preprocessed.columns"
   ]
  },
  {
   "cell_type": "code",
   "execution_count": 97,
   "metadata": {},
   "outputs": [],
   "source": [
    "df_preprocessed_knn=pd.DataFrame(data=df_preprocessed_kn, columns=df_preprocessed.columns) "
   ]
  },
  {
   "cell_type": "code",
   "execution_count": 98,
   "metadata": {},
   "outputs": [
    {
     "data": {
      "text/plain": [
       "array([[ 2.01607190e+07,  1.95000000e+01,  2.33000000e+01, ...,\n",
       "         0.00000000e+00, -3.44243941e+01,  1.45083635e+02],\n",
       "       [ 2.01007260e+07,  2.10000000e+00,  1.57000000e+01, ...,\n",
       "         0.00000000e+00, -3.52975906e+01,  1.49101268e+02],\n",
       "       [ 2.01404020e+07,  2.09000000e+01,  3.61000000e+01, ...,\n",
       "         0.00000000e+00, -3.11999142e+01,  1.36825353e+02],\n",
       "       ...,\n",
       "       [ 2.01101220e+07,  2.22000000e+01,  3.45000000e+01, ...,\n",
       "         0.00000000e+00, -2.94617202e+01,  1.49840715e+02],\n",
       "       [ 2.01010020e+07,  1.64000000e+01,  4.35000000e+01, ...,\n",
       "         0.00000000e+00, -3.41847265e+01,  1.42162497e+02],\n",
       "       [ 2.00901160e+07,  6.90000000e+00,  2.33000000e+01, ...,\n",
       "         0.00000000e+00, -3.28150000e+01,  1.51842778e+02]])"
      ]
     },
     "execution_count": 98,
     "metadata": {},
     "output_type": "execute_result"
    }
   ],
   "source": [
    "df_preprocessed_kn"
   ]
  },
  {
   "cell_type": "markdown",
   "metadata": {},
   "source": [
    "#### Original"
   ]
  },
  {
   "cell_type": "code",
   "execution_count": 151,
   "metadata": {},
   "outputs": [],
   "source": [
    "df_preprocessed = df_preprocessed.fillna(df_preprocessed.median())"
   ]
  },
  {
   "cell_type": "code",
   "execution_count": 152,
   "metadata": {},
   "outputs": [
    {
     "data": {
      "text/html": [
       "<div>\n",
       "<style scoped>\n",
       "    .dataframe tbody tr th:only-of-type {\n",
       "        vertical-align: middle;\n",
       "    }\n",
       "\n",
       "    .dataframe tbody tr th {\n",
       "        vertical-align: top;\n",
       "    }\n",
       "\n",
       "    .dataframe thead th {\n",
       "        text-align: right;\n",
       "    }\n",
       "</style>\n",
       "<table border=\"1\" class=\"dataframe\">\n",
       "  <thead>\n",
       "    <tr style=\"text-align: right;\">\n",
       "      <th></th>\n",
       "      <th>Date</th>\n",
       "      <th>TempLow</th>\n",
       "      <th>TempHigh</th>\n",
       "      <th>Steaming</th>\n",
       "      <th>Sun</th>\n",
       "      <th>WindDir</th>\n",
       "      <th>WindSpeed</th>\n",
       "      <th>DayWindSpeed</th>\n",
       "      <th>NightWindSpeed</th>\n",
       "      <th>DayHumidity</th>\n",
       "      <th>...</th>\n",
       "      <th>DayPressure</th>\n",
       "      <th>NightPressure</th>\n",
       "      <th>DayCloud</th>\n",
       "      <th>NightCloud</th>\n",
       "      <th>DayTemp</th>\n",
       "      <th>NightTemp</th>\n",
       "      <th>Weather</th>\n",
       "      <th>RISK_MM</th>\n",
       "      <th>loc_lat</th>\n",
       "      <th>loc_long</th>\n",
       "    </tr>\n",
       "  </thead>\n",
       "  <tbody>\n",
       "    <tr>\n",
       "      <th>0</th>\n",
       "      <td>20160719.0</td>\n",
       "      <td>19.5</td>\n",
       "      <td>23.3</td>\n",
       "      <td>5.69496</td>\n",
       "      <td>0.500000</td>\n",
       "      <td>2</td>\n",
       "      <td>61.0</td>\n",
       "      <td>31.0</td>\n",
       "      <td>22.000000</td>\n",
       "      <td>86.641375</td>\n",
       "      <td>...</td>\n",
       "      <td>1020.40000</td>\n",
       "      <td>1021.900000</td>\n",
       "      <td>4.167266</td>\n",
       "      <td>7.00000</td>\n",
       "      <td>17.0</td>\n",
       "      <td>19.6</td>\n",
       "      <td>0.0</td>\n",
       "      <td>0.0</td>\n",
       "      <td>-34.424394</td>\n",
       "      <td>145.083635</td>\n",
       "    </tr>\n",
       "    <tr>\n",
       "      <th>1</th>\n",
       "      <td>20100726.0</td>\n",
       "      <td>2.1</td>\n",
       "      <td>15.7</td>\n",
       "      <td>5.69496</td>\n",
       "      <td>5.700000</td>\n",
       "      <td>1</td>\n",
       "      <td>26.0</td>\n",
       "      <td>9.0</td>\n",
       "      <td>7.000000</td>\n",
       "      <td>53.275715</td>\n",
       "      <td>...</td>\n",
       "      <td>1023.70000</td>\n",
       "      <td>1020.800000</td>\n",
       "      <td>4.000000</td>\n",
       "      <td>1.00000</td>\n",
       "      <td>9.0</td>\n",
       "      <td>14.1</td>\n",
       "      <td>0.0</td>\n",
       "      <td>0.0</td>\n",
       "      <td>-35.297591</td>\n",
       "      <td>149.101268</td>\n",
       "    </tr>\n",
       "    <tr>\n",
       "      <th>2</th>\n",
       "      <td>20140402.0</td>\n",
       "      <td>20.9</td>\n",
       "      <td>36.1</td>\n",
       "      <td>5.69496</td>\n",
       "      <td>7.993227</td>\n",
       "      <td>9</td>\n",
       "      <td>39.0</td>\n",
       "      <td>31.0</td>\n",
       "      <td>17.000000</td>\n",
       "      <td>15.471574</td>\n",
       "      <td>...</td>\n",
       "      <td>1017.10000</td>\n",
       "      <td>1014.900000</td>\n",
       "      <td>4.167266</td>\n",
       "      <td>4.27812</td>\n",
       "      <td>24.2</td>\n",
       "      <td>33.9</td>\n",
       "      <td>0.0</td>\n",
       "      <td>0.0</td>\n",
       "      <td>-31.199914</td>\n",
       "      <td>136.825353</td>\n",
       "    </tr>\n",
       "    <tr>\n",
       "      <th>3</th>\n",
       "      <td>20141119.0</td>\n",
       "      <td>11.5</td>\n",
       "      <td>23.9</td>\n",
       "      <td>5.69496</td>\n",
       "      <td>7.993227</td>\n",
       "      <td>6</td>\n",
       "      <td>35.0</td>\n",
       "      <td>7.0</td>\n",
       "      <td>17.000000</td>\n",
       "      <td>46.442398</td>\n",
       "      <td>...</td>\n",
       "      <td>1010.20000</td>\n",
       "      <td>1015.465952</td>\n",
       "      <td>4.167266</td>\n",
       "      <td>4.27812</td>\n",
       "      <td>13.8</td>\n",
       "      <td>21.8</td>\n",
       "      <td>1.0</td>\n",
       "      <td>0.2</td>\n",
       "      <td>-35.420977</td>\n",
       "      <td>149.092134</td>\n",
       "    </tr>\n",
       "    <tr>\n",
       "      <th>4</th>\n",
       "      <td>20130528.0</td>\n",
       "      <td>8.2</td>\n",
       "      <td>20.5</td>\n",
       "      <td>3.20000</td>\n",
       "      <td>7.993227</td>\n",
       "      <td>4</td>\n",
       "      <td>69.0</td>\n",
       "      <td>13.0</td>\n",
       "      <td>18.435879</td>\n",
       "      <td>51.830889</td>\n",
       "      <td>...</td>\n",
       "      <td>1018.03427</td>\n",
       "      <td>1001.200000</td>\n",
       "      <td>7.000000</td>\n",
       "      <td>7.00000</td>\n",
       "      <td>17.0</td>\n",
       "      <td>17.6</td>\n",
       "      <td>0.0</td>\n",
       "      <td>0.6</td>\n",
       "      <td>-42.882509</td>\n",
       "      <td>147.328123</td>\n",
       "    </tr>\n",
       "    <tr>\n",
       "      <th>...</th>\n",
       "      <td>...</td>\n",
       "      <td>...</td>\n",
       "      <td>...</td>\n",
       "      <td>...</td>\n",
       "      <td>...</td>\n",
       "      <td>...</td>\n",
       "      <td>...</td>\n",
       "      <td>...</td>\n",
       "      <td>...</td>\n",
       "      <td>...</td>\n",
       "      <td>...</td>\n",
       "      <td>...</td>\n",
       "      <td>...</td>\n",
       "      <td>...</td>\n",
       "      <td>...</td>\n",
       "      <td>...</td>\n",
       "      <td>...</td>\n",
       "      <td>...</td>\n",
       "      <td>...</td>\n",
       "      <td>...</td>\n",
       "      <td>...</td>\n",
       "    </tr>\n",
       "    <tr>\n",
       "      <th>69995</th>\n",
       "      <td>20111227.0</td>\n",
       "      <td>9.6</td>\n",
       "      <td>21.5</td>\n",
       "      <td>8.00000</td>\n",
       "      <td>12.000000</td>\n",
       "      <td>12</td>\n",
       "      <td>31.0</td>\n",
       "      <td>17.0</td>\n",
       "      <td>9.000000</td>\n",
       "      <td>39.878487</td>\n",
       "      <td>...</td>\n",
       "      <td>1024.50000</td>\n",
       "      <td>1022.800000</td>\n",
       "      <td>0.000000</td>\n",
       "      <td>6.00000</td>\n",
       "      <td>14.3</td>\n",
       "      <td>19.0</td>\n",
       "      <td>0.0</td>\n",
       "      <td>0.0</td>\n",
       "      <td>-34.424394</td>\n",
       "      <td>145.083635</td>\n",
       "    </tr>\n",
       "    <tr>\n",
       "      <th>69996</th>\n",
       "      <td>20130528.0</td>\n",
       "      <td>11.6</td>\n",
       "      <td>31.4</td>\n",
       "      <td>5.69496</td>\n",
       "      <td>7.993227</td>\n",
       "      <td>6</td>\n",
       "      <td>39.0</td>\n",
       "      <td>7.0</td>\n",
       "      <td>18.435879</td>\n",
       "      <td>52.307109</td>\n",
       "      <td>...</td>\n",
       "      <td>1019.10000</td>\n",
       "      <td>1016.300000</td>\n",
       "      <td>4.167266</td>\n",
       "      <td>4.27812</td>\n",
       "      <td>19.3</td>\n",
       "      <td>21.8</td>\n",
       "      <td>0.0</td>\n",
       "      <td>0.0</td>\n",
       "      <td>-35.297591</td>\n",
       "      <td>149.101268</td>\n",
       "    </tr>\n",
       "    <tr>\n",
       "      <th>69997</th>\n",
       "      <td>20110122.0</td>\n",
       "      <td>22.2</td>\n",
       "      <td>34.5</td>\n",
       "      <td>5.69496</td>\n",
       "      <td>7.600000</td>\n",
       "      <td>6</td>\n",
       "      <td>39.0</td>\n",
       "      <td>26.0</td>\n",
       "      <td>18.435879</td>\n",
       "      <td>30.743840</td>\n",
       "      <td>...</td>\n",
       "      <td>1018.03427</td>\n",
       "      <td>1008.500000</td>\n",
       "      <td>7.000000</td>\n",
       "      <td>7.00000</td>\n",
       "      <td>25.2</td>\n",
       "      <td>21.8</td>\n",
       "      <td>0.0</td>\n",
       "      <td>0.0</td>\n",
       "      <td>-29.461720</td>\n",
       "      <td>149.840715</td>\n",
       "    </tr>\n",
       "    <tr>\n",
       "      <th>69998</th>\n",
       "      <td>20101002.0</td>\n",
       "      <td>16.4</td>\n",
       "      <td>43.5</td>\n",
       "      <td>7.00000</td>\n",
       "      <td>12.700000</td>\n",
       "      <td>2</td>\n",
       "      <td>43.0</td>\n",
       "      <td>19.0</td>\n",
       "      <td>19.000000</td>\n",
       "      <td>28.084916</td>\n",
       "      <td>...</td>\n",
       "      <td>1014.20000</td>\n",
       "      <td>1010.500000</td>\n",
       "      <td>0.000000</td>\n",
       "      <td>4.27812</td>\n",
       "      <td>28.9</td>\n",
       "      <td>21.8</td>\n",
       "      <td>0.0</td>\n",
       "      <td>0.0</td>\n",
       "      <td>-34.184726</td>\n",
       "      <td>142.162497</td>\n",
       "    </tr>\n",
       "    <tr>\n",
       "      <th>69999</th>\n",
       "      <td>20090116.0</td>\n",
       "      <td>6.9</td>\n",
       "      <td>23.3</td>\n",
       "      <td>6.60000</td>\n",
       "      <td>10.600000</td>\n",
       "      <td>5</td>\n",
       "      <td>39.0</td>\n",
       "      <td>13.0</td>\n",
       "      <td>19.000000</td>\n",
       "      <td>30.948435</td>\n",
       "      <td>...</td>\n",
       "      <td>1017.80000</td>\n",
       "      <td>1011.800000</td>\n",
       "      <td>4.167266</td>\n",
       "      <td>4.27812</td>\n",
       "      <td>19.4</td>\n",
       "      <td>21.8</td>\n",
       "      <td>0.0</td>\n",
       "      <td>0.0</td>\n",
       "      <td>-32.815000</td>\n",
       "      <td>151.842778</td>\n",
       "    </tr>\n",
       "  </tbody>\n",
       "</table>\n",
       "<p>70000 rows × 21 columns</p>\n",
       "</div>"
      ],
      "text/plain": [
       "             Date  TempLow  TempHigh  Steaming        Sun  WindDir  WindSpeed  \\\n",
       "0      20160719.0     19.5      23.3   5.69496   0.500000        2       61.0   \n",
       "1      20100726.0      2.1      15.7   5.69496   5.700000        1       26.0   \n",
       "2      20140402.0     20.9      36.1   5.69496   7.993227        9       39.0   \n",
       "3      20141119.0     11.5      23.9   5.69496   7.993227        6       35.0   \n",
       "4      20130528.0      8.2      20.5   3.20000   7.993227        4       69.0   \n",
       "...           ...      ...       ...       ...        ...      ...        ...   \n",
       "69995  20111227.0      9.6      21.5   8.00000  12.000000       12       31.0   \n",
       "69996  20130528.0     11.6      31.4   5.69496   7.993227        6       39.0   \n",
       "69997  20110122.0     22.2      34.5   5.69496   7.600000        6       39.0   \n",
       "69998  20101002.0     16.4      43.5   7.00000  12.700000        2       43.0   \n",
       "69999  20090116.0      6.9      23.3   6.60000  10.600000        5       39.0   \n",
       "\n",
       "       DayWindSpeed  NightWindSpeed  DayHumidity  ...  DayPressure  \\\n",
       "0              31.0       22.000000    86.641375  ...   1020.40000   \n",
       "1               9.0        7.000000    53.275715  ...   1023.70000   \n",
       "2              31.0       17.000000    15.471574  ...   1017.10000   \n",
       "3               7.0       17.000000    46.442398  ...   1010.20000   \n",
       "4              13.0       18.435879    51.830889  ...   1018.03427   \n",
       "...             ...             ...          ...  ...          ...   \n",
       "69995          17.0        9.000000    39.878487  ...   1024.50000   \n",
       "69996           7.0       18.435879    52.307109  ...   1019.10000   \n",
       "69997          26.0       18.435879    30.743840  ...   1018.03427   \n",
       "69998          19.0       19.000000    28.084916  ...   1014.20000   \n",
       "69999          13.0       19.000000    30.948435  ...   1017.80000   \n",
       "\n",
       "       NightPressure  DayCloud  NightCloud  DayTemp  NightTemp  Weather  \\\n",
       "0        1021.900000  4.167266     7.00000     17.0       19.6      0.0   \n",
       "1        1020.800000  4.000000     1.00000      9.0       14.1      0.0   \n",
       "2        1014.900000  4.167266     4.27812     24.2       33.9      0.0   \n",
       "3        1015.465952  4.167266     4.27812     13.8       21.8      1.0   \n",
       "4        1001.200000  7.000000     7.00000     17.0       17.6      0.0   \n",
       "...              ...       ...         ...      ...        ...      ...   \n",
       "69995    1022.800000  0.000000     6.00000     14.3       19.0      0.0   \n",
       "69996    1016.300000  4.167266     4.27812     19.3       21.8      0.0   \n",
       "69997    1008.500000  7.000000     7.00000     25.2       21.8      0.0   \n",
       "69998    1010.500000  0.000000     4.27812     28.9       21.8      0.0   \n",
       "69999    1011.800000  4.167266     4.27812     19.4       21.8      0.0   \n",
       "\n",
       "       RISK_MM    loc_lat    loc_long  \n",
       "0          0.0 -34.424394  145.083635  \n",
       "1          0.0 -35.297591  149.101268  \n",
       "2          0.0 -31.199914  136.825353  \n",
       "3          0.2 -35.420977  149.092134  \n",
       "4          0.6 -42.882509  147.328123  \n",
       "...        ...        ...         ...  \n",
       "69995      0.0 -34.424394  145.083635  \n",
       "69996      0.0 -35.297591  149.101268  \n",
       "69997      0.0 -29.461720  149.840715  \n",
       "69998      0.0 -34.184726  142.162497  \n",
       "69999      0.0 -32.815000  151.842778  \n",
       "\n",
       "[70000 rows x 21 columns]"
      ]
     },
     "execution_count": 152,
     "metadata": {},
     "output_type": "execute_result"
    }
   ],
   "source": [
    "df_preprocessed"
   ]
  },
  {
   "cell_type": "code",
   "execution_count": 153,
   "metadata": {},
   "outputs": [
    {
     "data": {
      "text/plain": [
       "Date              float64\n",
       "TempLow           float64\n",
       "TempHigh          float64\n",
       "Steaming          float64\n",
       "Sun               float64\n",
       "WindDir              int8\n",
       "WindSpeed         float64\n",
       "DayWindSpeed      float64\n",
       "NightWindSpeed    float64\n",
       "DayHumidity       float64\n",
       "NightHumidity     float64\n",
       "DayPressure       float64\n",
       "NightPressure     float64\n",
       "DayCloud          float64\n",
       "NightCloud        float64\n",
       "DayTemp           float64\n",
       "NightTemp         float64\n",
       "Weather           float64\n",
       "RISK_MM           float64\n",
       "loc_lat           float64\n",
       "loc_long          float64\n",
       "dtype: object"
      ]
     },
     "execution_count": 153,
     "metadata": {},
     "output_type": "execute_result"
    }
   ],
   "source": [
    "df_preprocessed.dtypes"
   ]
  },
  {
   "cell_type": "markdown",
   "metadata": {},
   "source": [
    "#### Using KNN dataframe"
   ]
  },
  {
   "cell_type": "code",
   "execution_count": 102,
   "metadata": {},
   "outputs": [],
   "source": [
    "from sklearn.model_selection import train_test_split\n",
    "x_train, x_val, y_train, y_val = train_test_split(df_preprocessed_knn.drop(columns = ['Weather']).iloc[:train_end_id, :],df_preprocessed_knn['Weather'].iloc[:train_end_id], test_size=0.25)"
   ]
  },
  {
   "cell_type": "code",
   "execution_count": 103,
   "metadata": {},
   "outputs": [],
   "source": [
    "x_test = df_preprocessed_knn.drop(columns = ['Weather']).iloc[train_end_id:, :]"
   ]
  },
  {
   "cell_type": "markdown",
   "metadata": {},
   "source": [
    "#### Origin"
   ]
  },
  {
   "cell_type": "code",
   "execution_count": 154,
   "metadata": {},
   "outputs": [],
   "source": [
    "from sklearn.model_selection import train_test_split\n",
    "x_train, x_val, y_train, y_val = train_test_split(df_preprocessed.drop(columns = ['Weather']).iloc[:train_end_id, :],df_preprocessed['Weather'].iloc[:train_end_id], test_size=0.25)"
   ]
  },
  {
   "cell_type": "code",
   "execution_count": 155,
   "metadata": {},
   "outputs": [],
   "source": [
    "x_test = df_preprocessed.drop(columns = ['Weather']).iloc[train_end_id:, :]"
   ]
  },
  {
   "cell_type": "code",
   "execution_count": 156,
   "metadata": {},
   "outputs": [
    {
     "data": {
      "text/html": [
       "<div>\n",
       "<style scoped>\n",
       "    .dataframe tbody tr th:only-of-type {\n",
       "        vertical-align: middle;\n",
       "    }\n",
       "\n",
       "    .dataframe tbody tr th {\n",
       "        vertical-align: top;\n",
       "    }\n",
       "\n",
       "    .dataframe thead th {\n",
       "        text-align: right;\n",
       "    }\n",
       "</style>\n",
       "<table border=\"1\" class=\"dataframe\">\n",
       "  <thead>\n",
       "    <tr style=\"text-align: right;\">\n",
       "      <th></th>\n",
       "      <th>Date</th>\n",
       "      <th>TempLow</th>\n",
       "      <th>TempHigh</th>\n",
       "      <th>Steaming</th>\n",
       "      <th>Sun</th>\n",
       "      <th>WindDir</th>\n",
       "      <th>WindSpeed</th>\n",
       "      <th>DayWindSpeed</th>\n",
       "      <th>NightWindSpeed</th>\n",
       "      <th>DayHumidity</th>\n",
       "      <th>NightHumidity</th>\n",
       "      <th>DayPressure</th>\n",
       "      <th>NightPressure</th>\n",
       "      <th>DayCloud</th>\n",
       "      <th>NightCloud</th>\n",
       "      <th>DayTemp</th>\n",
       "      <th>NightTemp</th>\n",
       "      <th>RISK_MM</th>\n",
       "      <th>loc_lat</th>\n",
       "      <th>loc_long</th>\n",
       "    </tr>\n",
       "  </thead>\n",
       "  <tbody>\n",
       "    <tr>\n",
       "      <th>34615</th>\n",
       "      <td>20130528.0</td>\n",
       "      <td>12.7</td>\n",
       "      <td>25.8</td>\n",
       "      <td>5.69496</td>\n",
       "      <td>7.993227</td>\n",
       "      <td>5</td>\n",
       "      <td>24.0</td>\n",
       "      <td>13.0</td>\n",
       "      <td>17.000000</td>\n",
       "      <td>33.540942</td>\n",
       "      <td>49.044435</td>\n",
       "      <td>1019.90000</td>\n",
       "      <td>1016.100000</td>\n",
       "      <td>4.167266</td>\n",
       "      <td>4.27812</td>\n",
       "      <td>17.0</td>\n",
       "      <td>21.8</td>\n",
       "      <td>0.0</td>\n",
       "      <td>-34.424394</td>\n",
       "      <td>145.083635</td>\n",
       "    </tr>\n",
       "    <tr>\n",
       "      <th>34062</th>\n",
       "      <td>20100220.0</td>\n",
       "      <td>5.8</td>\n",
       "      <td>21.5</td>\n",
       "      <td>5.69496</td>\n",
       "      <td>7.993227</td>\n",
       "      <td>5</td>\n",
       "      <td>26.0</td>\n",
       "      <td>6.0</td>\n",
       "      <td>18.435879</td>\n",
       "      <td>52.307109</td>\n",
       "      <td>59.631471</td>\n",
       "      <td>1022.30000</td>\n",
       "      <td>1017.100000</td>\n",
       "      <td>4.167266</td>\n",
       "      <td>2.00000</td>\n",
       "      <td>14.1</td>\n",
       "      <td>21.8</td>\n",
       "      <td>0.0</td>\n",
       "      <td>-20.569655</td>\n",
       "      <td>142.928360</td>\n",
       "    </tr>\n",
       "    <tr>\n",
       "      <th>15032</th>\n",
       "      <td>20120703.0</td>\n",
       "      <td>14.2</td>\n",
       "      <td>23.3</td>\n",
       "      <td>5.69496</td>\n",
       "      <td>7.993227</td>\n",
       "      <td>0</td>\n",
       "      <td>20.0</td>\n",
       "      <td>4.0</td>\n",
       "      <td>13.000000</td>\n",
       "      <td>52.307109</td>\n",
       "      <td>54.709719</td>\n",
       "      <td>1018.70000</td>\n",
       "      <td>1016.400000</td>\n",
       "      <td>8.000000</td>\n",
       "      <td>4.27812</td>\n",
       "      <td>17.0</td>\n",
       "      <td>21.8</td>\n",
       "      <td>1.4</td>\n",
       "      <td>-25.345554</td>\n",
       "      <td>131.036961</td>\n",
       "    </tr>\n",
       "    <tr>\n",
       "      <th>6625</th>\n",
       "      <td>20130528.0</td>\n",
       "      <td>12.0</td>\n",
       "      <td>23.3</td>\n",
       "      <td>5.69496</td>\n",
       "      <td>7.993227</td>\n",
       "      <td>16</td>\n",
       "      <td>39.0</td>\n",
       "      <td>26.0</td>\n",
       "      <td>19.000000</td>\n",
       "      <td>42.130614</td>\n",
       "      <td>56.150174</td>\n",
       "      <td>1012.30000</td>\n",
       "      <td>1015.465952</td>\n",
       "      <td>8.000000</td>\n",
       "      <td>6.00000</td>\n",
       "      <td>10.9</td>\n",
       "      <td>16.5</td>\n",
       "      <td>0.0</td>\n",
       "      <td>-36.758877</td>\n",
       "      <td>144.282593</td>\n",
       "    </tr>\n",
       "    <tr>\n",
       "      <th>25659</th>\n",
       "      <td>20140324.0</td>\n",
       "      <td>12.0</td>\n",
       "      <td>20.2</td>\n",
       "      <td>1.00000</td>\n",
       "      <td>9.700000</td>\n",
       "      <td>0</td>\n",
       "      <td>30.0</td>\n",
       "      <td>15.0</td>\n",
       "      <td>20.000000</td>\n",
       "      <td>61.571236</td>\n",
       "      <td>61.549866</td>\n",
       "      <td>1017.10000</td>\n",
       "      <td>1013.200000</td>\n",
       "      <td>1.000000</td>\n",
       "      <td>0.00000</td>\n",
       "      <td>14.6</td>\n",
       "      <td>18.6</td>\n",
       "      <td>0.0</td>\n",
       "      <td>-34.424394</td>\n",
       "      <td>145.083635</td>\n",
       "    </tr>\n",
       "    <tr>\n",
       "      <th>...</th>\n",
       "      <td>...</td>\n",
       "      <td>...</td>\n",
       "      <td>...</td>\n",
       "      <td>...</td>\n",
       "      <td>...</td>\n",
       "      <td>...</td>\n",
       "      <td>...</td>\n",
       "      <td>...</td>\n",
       "      <td>...</td>\n",
       "      <td>...</td>\n",
       "      <td>...</td>\n",
       "      <td>...</td>\n",
       "      <td>...</td>\n",
       "      <td>...</td>\n",
       "      <td>...</td>\n",
       "      <td>...</td>\n",
       "      <td>...</td>\n",
       "      <td>...</td>\n",
       "      <td>...</td>\n",
       "      <td>...</td>\n",
       "    </tr>\n",
       "    <tr>\n",
       "      <th>7594</th>\n",
       "      <td>20090802.0</td>\n",
       "      <td>2.6</td>\n",
       "      <td>23.3</td>\n",
       "      <td>5.40000</td>\n",
       "      <td>10.500000</td>\n",
       "      <td>1</td>\n",
       "      <td>46.0</td>\n",
       "      <td>13.0</td>\n",
       "      <td>18.435879</td>\n",
       "      <td>20.317889</td>\n",
       "      <td>49.655195</td>\n",
       "      <td>1025.30000</td>\n",
       "      <td>1021.700000</td>\n",
       "      <td>4.167266</td>\n",
       "      <td>4.27812</td>\n",
       "      <td>14.1</td>\n",
       "      <td>21.8</td>\n",
       "      <td>0.0</td>\n",
       "      <td>-34.424394</td>\n",
       "      <td>145.083635</td>\n",
       "    </tr>\n",
       "    <tr>\n",
       "      <th>34441</th>\n",
       "      <td>20100428.0</td>\n",
       "      <td>13.3</td>\n",
       "      <td>26.0</td>\n",
       "      <td>6.60000</td>\n",
       "      <td>7.000000</td>\n",
       "      <td>0</td>\n",
       "      <td>39.0</td>\n",
       "      <td>19.0</td>\n",
       "      <td>22.000000</td>\n",
       "      <td>38.059067</td>\n",
       "      <td>67.164532</td>\n",
       "      <td>1033.20000</td>\n",
       "      <td>1031.100000</td>\n",
       "      <td>7.000000</td>\n",
       "      <td>5.00000</td>\n",
       "      <td>16.7</td>\n",
       "      <td>25.7</td>\n",
       "      <td>0.0</td>\n",
       "      <td>-34.184726</td>\n",
       "      <td>142.162497</td>\n",
       "    </tr>\n",
       "    <tr>\n",
       "      <th>6496</th>\n",
       "      <td>20101016.0</td>\n",
       "      <td>8.0</td>\n",
       "      <td>17.1</td>\n",
       "      <td>2.20000</td>\n",
       "      <td>5.000000</td>\n",
       "      <td>9</td>\n",
       "      <td>33.0</td>\n",
       "      <td>11.0</td>\n",
       "      <td>22.000000</td>\n",
       "      <td>92.938847</td>\n",
       "      <td>59.631471</td>\n",
       "      <td>1031.50000</td>\n",
       "      <td>1029.800000</td>\n",
       "      <td>4.167266</td>\n",
       "      <td>4.27812</td>\n",
       "      <td>13.4</td>\n",
       "      <td>14.3</td>\n",
       "      <td>1.4</td>\n",
       "      <td>-34.424394</td>\n",
       "      <td>145.083635</td>\n",
       "    </tr>\n",
       "    <tr>\n",
       "      <th>20243</th>\n",
       "      <td>20140202.0</td>\n",
       "      <td>14.3</td>\n",
       "      <td>30.1</td>\n",
       "      <td>5.69496</td>\n",
       "      <td>7.993227</td>\n",
       "      <td>6</td>\n",
       "      <td>41.0</td>\n",
       "      <td>30.0</td>\n",
       "      <td>13.000000</td>\n",
       "      <td>52.307109</td>\n",
       "      <td>56.779574</td>\n",
       "      <td>1017.20000</td>\n",
       "      <td>1012.100000</td>\n",
       "      <td>4.167266</td>\n",
       "      <td>4.27812</td>\n",
       "      <td>20.9</td>\n",
       "      <td>27.8</td>\n",
       "      <td>0.0</td>\n",
       "      <td>-36.758877</td>\n",
       "      <td>144.282593</td>\n",
       "    </tr>\n",
       "    <tr>\n",
       "      <th>9160</th>\n",
       "      <td>20100514.0</td>\n",
       "      <td>15.4</td>\n",
       "      <td>23.6</td>\n",
       "      <td>5.69496</td>\n",
       "      <td>7.993227</td>\n",
       "      <td>5</td>\n",
       "      <td>19.0</td>\n",
       "      <td>4.0</td>\n",
       "      <td>7.000000</td>\n",
       "      <td>50.982051</td>\n",
       "      <td>77.124337</td>\n",
       "      <td>1018.03427</td>\n",
       "      <td>1015.465952</td>\n",
       "      <td>4.167266</td>\n",
       "      <td>4.27812</td>\n",
       "      <td>17.6</td>\n",
       "      <td>23.0</td>\n",
       "      <td>0.0</td>\n",
       "      <td>-33.751079</td>\n",
       "      <td>150.694168</td>\n",
       "    </tr>\n",
       "  </tbody>\n",
       "</table>\n",
       "<p>26367 rows × 20 columns</p>\n",
       "</div>"
      ],
      "text/plain": [
       "             Date  TempLow  TempHigh  Steaming        Sun  WindDir  WindSpeed  \\\n",
       "34615  20130528.0     12.7      25.8   5.69496   7.993227        5       24.0   \n",
       "34062  20100220.0      5.8      21.5   5.69496   7.993227        5       26.0   \n",
       "15032  20120703.0     14.2      23.3   5.69496   7.993227        0       20.0   \n",
       "6625   20130528.0     12.0      23.3   5.69496   7.993227       16       39.0   \n",
       "25659  20140324.0     12.0      20.2   1.00000   9.700000        0       30.0   \n",
       "...           ...      ...       ...       ...        ...      ...        ...   \n",
       "7594   20090802.0      2.6      23.3   5.40000  10.500000        1       46.0   \n",
       "34441  20100428.0     13.3      26.0   6.60000   7.000000        0       39.0   \n",
       "6496   20101016.0      8.0      17.1   2.20000   5.000000        9       33.0   \n",
       "20243  20140202.0     14.3      30.1   5.69496   7.993227        6       41.0   \n",
       "9160   20100514.0     15.4      23.6   5.69496   7.993227        5       19.0   \n",
       "\n",
       "       DayWindSpeed  NightWindSpeed  DayHumidity  NightHumidity  DayPressure  \\\n",
       "34615          13.0       17.000000    33.540942      49.044435   1019.90000   \n",
       "34062           6.0       18.435879    52.307109      59.631471   1022.30000   \n",
       "15032           4.0       13.000000    52.307109      54.709719   1018.70000   \n",
       "6625           26.0       19.000000    42.130614      56.150174   1012.30000   \n",
       "25659          15.0       20.000000    61.571236      61.549866   1017.10000   \n",
       "...             ...             ...          ...            ...          ...   \n",
       "7594           13.0       18.435879    20.317889      49.655195   1025.30000   \n",
       "34441          19.0       22.000000    38.059067      67.164532   1033.20000   \n",
       "6496           11.0       22.000000    92.938847      59.631471   1031.50000   \n",
       "20243          30.0       13.000000    52.307109      56.779574   1017.20000   \n",
       "9160            4.0        7.000000    50.982051      77.124337   1018.03427   \n",
       "\n",
       "       NightPressure  DayCloud  NightCloud  DayTemp  NightTemp  RISK_MM  \\\n",
       "34615    1016.100000  4.167266     4.27812     17.0       21.8      0.0   \n",
       "34062    1017.100000  4.167266     2.00000     14.1       21.8      0.0   \n",
       "15032    1016.400000  8.000000     4.27812     17.0       21.8      1.4   \n",
       "6625     1015.465952  8.000000     6.00000     10.9       16.5      0.0   \n",
       "25659    1013.200000  1.000000     0.00000     14.6       18.6      0.0   \n",
       "...              ...       ...         ...      ...        ...      ...   \n",
       "7594     1021.700000  4.167266     4.27812     14.1       21.8      0.0   \n",
       "34441    1031.100000  7.000000     5.00000     16.7       25.7      0.0   \n",
       "6496     1029.800000  4.167266     4.27812     13.4       14.3      1.4   \n",
       "20243    1012.100000  4.167266     4.27812     20.9       27.8      0.0   \n",
       "9160     1015.465952  4.167266     4.27812     17.6       23.0      0.0   \n",
       "\n",
       "         loc_lat    loc_long  \n",
       "34615 -34.424394  145.083635  \n",
       "34062 -20.569655  142.928360  \n",
       "15032 -25.345554  131.036961  \n",
       "6625  -36.758877  144.282593  \n",
       "25659 -34.424394  145.083635  \n",
       "...          ...         ...  \n",
       "7594  -34.424394  145.083635  \n",
       "34441 -34.184726  142.162497  \n",
       "6496  -34.424394  145.083635  \n",
       "20243 -36.758877  144.282593  \n",
       "9160  -33.751079  150.694168  \n",
       "\n",
       "[26367 rows x 20 columns]"
      ]
     },
     "execution_count": 156,
     "metadata": {},
     "output_type": "execute_result"
    }
   ],
   "source": [
    "x_train"
   ]
  },
  {
   "cell_type": "markdown",
   "metadata": {},
   "source": [
    "#### MaxMin"
   ]
  },
  {
   "cell_type": "code",
   "execution_count": 157,
   "metadata": {},
   "outputs": [],
   "source": [
    "from sklearn.preprocessing import MinMaxScaler"
   ]
  },
  {
   "cell_type": "code",
   "execution_count": 158,
   "metadata": {},
   "outputs": [],
   "source": [
    "scaler = MinMaxScaler()"
   ]
  },
  {
   "cell_type": "code",
   "execution_count": 159,
   "metadata": {},
   "outputs": [
    {
     "data": {
      "text/plain": [
       "MinMaxScaler()"
      ]
     },
     "execution_count": 159,
     "metadata": {},
     "output_type": "execute_result"
    }
   ],
   "source": [
    "scaler.fit(x_train)"
   ]
  },
  {
   "cell_type": "code",
   "execution_count": 160,
   "metadata": {},
   "outputs": [],
   "source": [
    "x_train_std = scaler.transform(x_train)\n",
    "x_test_std = scaler.transform(x_test)\n",
    "x_val_std = scaler.transform(x_val)"
   ]
  },
  {
   "cell_type": "code",
   "execution_count": 161,
   "metadata": {},
   "outputs": [],
   "source": [
    "x_train_std = scaler.fit_transform(x_train)\n",
    "x_test_std = scaler.fit_transform(x_test)\n",
    "x_val_std = scaler.fit_transform(x_val)"
   ]
  },
  {
   "cell_type": "markdown",
   "metadata": {},
   "source": [
    "#### Standariz3"
   ]
  },
  {
   "cell_type": "markdown",
   "metadata": {},
   "source": [
    "##### Original"
   ]
  },
  {
   "cell_type": "code",
   "execution_count": 112,
   "metadata": {},
   "outputs": [],
   "source": [
    "from sklearn.preprocessing import StandardScaler\n",
    "sc = StandardScaler()\n",
    "sc.fit(x_train)\n",
    "\n",
    "x_train_std = sc.transform(x_train)\n",
    "x_test_std = sc.transform(x_test)"
   ]
  },
  {
   "cell_type": "code",
   "execution_count": 113,
   "metadata": {},
   "outputs": [],
   "source": [
    "x_val_std = sc.transform(x_val)"
   ]
  },
  {
   "cell_type": "markdown",
   "metadata": {},
   "source": [
    "#### Do the PCA"
   ]
  },
  {
   "cell_type": "code",
   "execution_count": 170,
   "metadata": {},
   "outputs": [],
   "source": [
    "from sklearn.decomposition import PCA\n",
    "pca = PCA(n_components=2)"
   ]
  },
  {
   "cell_type": "code",
   "execution_count": 171,
   "metadata": {},
   "outputs": [],
   "source": [
    "x_train_std = pca.fit_transform(x_train_std)"
   ]
  },
  {
   "cell_type": "code",
   "execution_count": 116,
   "metadata": {},
   "outputs": [],
   "source": [
    "x_test_std = pca.fit_transform(x_test_std)"
   ]
  },
  {
   "cell_type": "code",
   "execution_count": 117,
   "metadata": {},
   "outputs": [],
   "source": [
    "x_val_std = pca.fit_transform(x_val_std)"
   ]
  },
  {
   "cell_type": "markdown",
   "metadata": {},
   "source": [
    "##### Oversampleing"
   ]
  },
  {
   "cell_type": "code",
   "execution_count": 162,
   "metadata": {},
   "outputs": [],
   "source": [
    "from imblearn.over_sampling import SMOTE\n",
    "sampler = SMOTE(random_state=42)\n",
    "x_train_std, y_train = sampler.fit_resample(x_train_std, y_train)"
   ]
  },
  {
   "cell_type": "code",
   "execution_count": 163,
   "metadata": {},
   "outputs": [
    {
     "data": {
      "image/png": "[encoded data removed]",
      "text/plain": [
       "<Figure size 640x480 with 1 Axes>"
      ]
     },
     "metadata": {},
     "output_type": "display_data"
    }
   ],
   "source": [
    "plot_y = pd.DataFrame(y_train, columns = ['Weather'])\n",
    "after_processed = plot_y['Weather'].value_counts().plot(kind='bar')"
   ]
  },
  {
   "cell_type": "markdown",
   "metadata": {},
   "source": [
    "#### Downsampling"
   ]
  },
  {
   "cell_type": "code",
   "execution_count": 120,
   "metadata": {},
   "outputs": [],
   "source": [
    "from imblearn.under_sampling import TomekLinks"
   ]
  },
  {
   "cell_type": "code",
   "execution_count": 121,
   "metadata": {},
   "outputs": [],
   "source": [
    "tl = TomekLinks(sampling_strategy='majority')"
   ]
  },
  {
   "cell_type": "code",
   "execution_count": 122,
   "metadata": {},
   "outputs": [],
   "source": [
    "x_train_std, y_train=tl.fit_resample(x_train_std, y_train)"
   ]
  },
  {
   "cell_type": "code",
   "execution_count": 124,
   "metadata": {},
   "outputs": [],
   "source": [
    "# plot_y = pd.DataFrame(y_train_tl, columns = ['Weather'])\n",
    "# after_processed = plot_y['Weather'].value_counts().plot(kind='bar')"
   ]
  },
  {
   "cell_type": "code",
   "execution_count": 125,
   "metadata": {},
   "outputs": [
    {
     "data": {
      "image/png": "[encoded data removed]",
      "text/plain": [
       "<Figure size 640x480 with 1 Axes>"
      ]
     },
     "metadata": {},
     "output_type": "display_data"
    }
   ],
   "source": [
    "plot_y = pd.DataFrame(y_train, columns = ['Weather'])\n",
    "after_processed = plot_y['Weather'].value_counts().plot(kind='bar')"
   ]
  },
  {
   "cell_type": "markdown",
   "metadata": {},
   "source": [
    "## Light BGM"
   ]
  },
  {
   "cell_type": "code",
   "execution_count": 164,
   "metadata": {
    "jupyter": {
     "outputs_hidden": true
    }
   },
   "outputs": [],
   "source": [
    "# lg = lgb.LGBMClassifier(silent=False)\n",
    "# param_dist = {\"max_depth\": [3,4,5,6,7,8,9,10],\n",
    "#               \"learning_rate\" : [0.01,0.05,0.1],\n",
    "#               \"num_leaves\": [300,900],\n",
    "#               \"n_estimators\": [200]\n",
    "#              }\n",
    "# grid_search = GridSearchCV(lg, n_jobs=8, param_grid=param_dist, cv = 3, scoring=\"f1\", verbose=5)"
   ]
  },
  {
   "cell_type": "code",
   "execution_count": 165,
   "metadata": {
    "jupyter": {
     "outputs_hidden": true
    }
   },
   "outputs": [],
   "source": [
    "# grid_search.fit(x_train_std,y_train)\n",
    "# grid_search.best_estimator_"
   ]
  },
  {
   "cell_type": "code",
   "execution_count": 166,
   "metadata": {},
   "outputs": [],
   "source": [
    "lbgm=lgb.LGBMClassifier(max_depth=10, n_estimators=200, scale_pos_weight=4, num_leaves=20)"
   ]
  },
  {
   "cell_type": "code",
   "execution_count": 167,
   "metadata": {},
   "outputs": [
    {
     "data": {
      "text/plain": [
       "LGBMClassifier(max_depth=10, n_estimators=200, num_leaves=20,\n",
       "               scale_pos_weight=4)"
      ]
     },
     "execution_count": 167,
     "metadata": {},
     "output_type": "execute_result"
    }
   ],
   "source": [
    "lbgm.fit(x_train_std,y_train)"
   ]
  },
  {
   "cell_type": "code",
   "execution_count": 168,
   "metadata": {},
   "outputs": [
    {
     "name": "stdout",
     "output_type": "stream",
     "text": [
      "Accuracy: 0.341905\n",
      "f1-score: 0.235325\n"
     ]
    }
   ],
   "source": [
    "y_pred_lbgm = lbgm.predict(x_val_std)\n",
    "print('Accuracy: %f' % accuracy_score(y_val, y_pred_lbgm))\n",
    "print('f1-score: %f' % f1_score(y_val, y_pred_lbgm))"
   ]
  },
  {
   "cell_type": "code",
   "execution_count": 169,
   "metadata": {},
   "outputs": [
    {
     "name": "stdout",
     "output_type": "stream",
     "text": [
      "Accuracy: 0.341905\n",
      "f1-score: 0.235325\n"
     ]
    }
   ],
   "source": [
    "y_pred_lbgm = lbgm.predict(x_val_std)\n",
    "print('Accuracy: %f' % accuracy_score(y_val, y_pred_lbgm))\n",
    "print('f1-score: %f' % f1_score(y_val, y_pred_lbgm))"
   ]
  },
  {
   "cell_type": "code",
   "execution_count": 455,
   "metadata": {},
   "outputs": [
    {
     "data": {
      "text/plain": [
       "<matplotlib.axes._subplots.AxesSubplot at 0x7f89f8b93970>"
      ]
     },
     "execution_count": 455,
     "metadata": {},
     "output_type": "execute_result"
    },
    {
     "data": {
      "image/png": "[encoded data removed]",
      "text/plain": [
       "<Figure size 432x288 with 2 Axes>"
      ]
     },
     "metadata": {
      "needs_background": "light"
     },
     "output_type": "display_data"
    }
   ],
   "source": [
    "cm=confusion_matrix(y_val,y_pred_lbgm)\n",
    "plt.figure(figsize=(6,4))\n",
    "sns.heatmap(cm,annot=True,cmap='Blues')"
   ]
  },
  {
   "cell_type": "markdown",
   "metadata": {},
   "source": [
    "## Craete Ans "
   ]
  },
  {
   "cell_type": "code",
   "execution_count": 351,
   "metadata": {},
   "outputs": [],
   "source": [
    "ans_pred = lbgm.predict(x_test_std)\n",
    "df_sap = pd.DataFrame(ans_pred.astype(int), columns = ['Weather'])\n",
    "df_sap.to_csv('lbgm_tl_med_one_hot.csv',  index_label = 'Id')"
   ]
  },
  {
   "cell_type": "code",
   "execution_count": null,
   "metadata": {},
   "outputs": [],
   "source": [
    "# temp_1 = pd.DataFrame(process_date[:train_end_idx],columns = ['Y','M','D'])\n",
    "# temp_2 = pd.DataFrame(process_date[train_end_idx:],columns = ['Y','M','D'])\n",
    "# process_date = pd.concat([temp_1, temp_2], sort=False)  \n",
    "# df = pd.concat([df, process_date], axis=1,sort=False)\n",
    "\n",
    "# temp_1 = pd.DataFrame(data_wind[:train_end_idx],columns = ['w1','w2','w3'])\n",
    "# temp_2 = pd.DataFrame(data_wind[train_end_idx:],columns = ['w1','w2','w3'])\n",
    "# data_wind = pd.concat([temp_1, temp_2], sort=False)  \n",
    "# df = pd.concat([df, data_wind], axis=1,sort=False)"
   ]
  }
 ],
 "metadata": {
  "kernelspec": {
   "display_name": "Python 3 (ipykernel)",
   "language": "python",
   "name": "python3"
  },
  "language_info": {
   "codemirror_mode": {
    "name": "ipython",
    "version": 3
   },
   "file_extension": ".py",
   "mimetype": "text/x-python",
   "name": "python",
   "nbconvert_exporter": "python",
   "pygments_lexer": "ipython3",
   "version": "3.9.13"
  }
 },
 "nbformat": 4,
 "nbformat_minor": 4
}
