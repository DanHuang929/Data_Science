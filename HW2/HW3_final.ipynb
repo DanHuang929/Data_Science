{
 "cells": [
  {
   "cell_type": "code",
   "execution_count": 1,
   "metadata": {},
   "outputs": [],
   "source": [
    "from sklearn.tree import DecisionTreeClassifier\n",
    "from sklearn.metrics import accuracy_score, f1_score\n",
    "import matplotlib.pylab as plt\n",
    "import pandas as pd\n",
    "import numpy as np\n",
    "from sklearn.preprocessing import OneHotEncoder\n",
    "from sklearn.metrics import classification_report,confusion_matrix"
   ]
  },
  {
   "cell_type": "code",
   "execution_count": 2,
   "metadata": {},
   "outputs": [],
   "source": [
    "import seaborn as sns"
   ]
  },
  {
   "cell_type": "markdown",
   "metadata": {},
   "source": [
    "## Model"
   ]
  },
  {
   "cell_type": "code",
   "execution_count": 3,
   "metadata": {},
   "outputs": [],
   "source": [
    "from xgboost import XGBClassifier\n",
    "import lightgbm as lgb\n",
    "import catboost as cab"
   ]
  },
  {
   "cell_type": "markdown",
   "metadata": {},
   "source": [
    "## Input data"
   ]
  },
  {
   "cell_type": "code",
   "execution_count": 4,
   "metadata": {},
   "outputs": [],
   "source": [
    "train_df =  pd.read_csv('train.csv', sep=',', engine='python')\n",
    "df_test = pd.read_csv('test.csv')\n",
    "df_test['Weather'] = np.zeros((len(df_test),))"
   ]
  },
  {
   "cell_type": "markdown",
   "metadata": {},
   "source": [
    "### Dir Maerge"
   ]
  },
  {
   "cell_type": "code",
   "execution_count": 5,
   "metadata": {},
   "outputs": [],
   "source": [
    "train_end_id = len(train_df)\n",
    "df = pd.concat([train_df, df_test ], sort=False, ignore_index=True)"
   ]
  },
  {
   "cell_type": "code",
   "execution_count": 6,
   "metadata": {},
   "outputs": [],
   "source": [
    "list_lat = np.load('list_lat.npy',allow_pickle='TRUE').item()\n",
    "list_long = np.load('list_long.npy',allow_pickle='TRUE').item()"
   ]
  },
  {
   "cell_type": "code",
   "execution_count": 7,
   "metadata": {},
   "outputs": [],
   "source": [
    "df['loc_lat']=df['Loc'].map(list_lat)\n",
    "df['loc_long']=df['Loc'].map(list_long)"
   ]
  },
  {
   "cell_type": "markdown",
   "metadata": {},
   "source": [
    "### Processing Date"
   ]
  },
  {
   "cell_type": "code",
   "execution_count": 8,
   "metadata": {},
   "outputs": [],
   "source": [
    "df_loc=df.copy()"
   ]
  },
  {
   "cell_type": "code",
   "execution_count": 9,
   "metadata": {},
   "outputs": [],
   "source": [
    "df_loc['Date']=df_loc['Date'].fillna(\"0\")"
   ]
  },
  {
   "cell_type": "code",
   "execution_count": 10,
   "metadata": {},
   "outputs": [],
   "source": [
    "def replace_string(x):\n",
    "    if(x!=\"0\"):\n",
    "        tmp=x.split(\"/\")\n",
    "        #print(tmp)\n",
    "        rx=int(tmp[0])*10000+int(tmp[1])*100+int(tmp[2])\n",
    "        return rx\n",
    "    else:\n",
    "        return int(x)"
   ]
  },
  {
   "cell_type": "code",
   "execution_count": 11,
   "metadata": {},
   "outputs": [],
   "source": [
    "df_loc['Date']=df_loc['Date'].apply(lambda x: replace_string(x))\n",
    "df_loc['Date']=df_loc['Date'].replace(0,np.nan)"
   ]
  },
  {
   "cell_type": "code",
   "execution_count": 12,
   "metadata": {},
   "outputs": [
    {
     "data": {
      "text/plain": [
       "0        20160719.0\n",
       "1        20100726.0\n",
       "2        20140402.0\n",
       "3        20141119.0\n",
       "4               NaN\n",
       "            ...    \n",
       "69995    20111227.0\n",
       "69996           NaN\n",
       "69997    20110122.0\n",
       "69998    20101002.0\n",
       "69999    20090116.0\n",
       "Name: Date, Length: 70000, dtype: float64"
      ]
     },
     "execution_count": 12,
     "metadata": {},
     "output_type": "execute_result"
    }
   ],
   "source": [
    "df_loc['Date']"
   ]
  },
  {
   "cell_type": "markdown",
   "metadata": {},
   "source": [
    "###### Testing"
   ]
  },
  {
   "cell_type": "code",
   "execution_count": 13,
   "metadata": {},
   "outputs": [
    {
     "data": {
      "text/html": [
       "<div>\n",
       "<style scoped>\n",
       "    .dataframe tbody tr th:only-of-type {\n",
       "        vertical-align: middle;\n",
       "    }\n",
       "\n",
       "    .dataframe tbody tr th {\n",
       "        vertical-align: top;\n",
       "    }\n",
       "\n",
       "    .dataframe thead th {\n",
       "        text-align: right;\n",
       "    }\n",
       "</style>\n",
       "<table border=\"1\" class=\"dataframe\">\n",
       "  <thead>\n",
       "    <tr style=\"text-align: right;\">\n",
       "      <th></th>\n",
       "      <th>Date</th>\n",
       "      <th>Loc</th>\n",
       "      <th>TempLow</th>\n",
       "      <th>TempHigh</th>\n",
       "      <th>Steaming</th>\n",
       "      <th>Sun</th>\n",
       "      <th>WindDir</th>\n",
       "      <th>WindSpeed</th>\n",
       "      <th>DayWindDir</th>\n",
       "      <th>NightWindDir</th>\n",
       "      <th>...</th>\n",
       "      <th>DayPressure</th>\n",
       "      <th>NightPressure</th>\n",
       "      <th>DayCloud</th>\n",
       "      <th>NightCloud</th>\n",
       "      <th>DayTemp</th>\n",
       "      <th>NightTemp</th>\n",
       "      <th>Weather</th>\n",
       "      <th>RISK_MM</th>\n",
       "      <th>loc_lat</th>\n",
       "      <th>loc_long</th>\n",
       "    </tr>\n",
       "  </thead>\n",
       "  <tbody>\n",
       "    <tr>\n",
       "      <th>503</th>\n",
       "      <td>20130403.0</td>\n",
       "      <td>NaN</td>\n",
       "      <td>NaN</td>\n",
       "      <td>NaN</td>\n",
       "      <td>NaN</td>\n",
       "      <td>NaN</td>\n",
       "      <td>NNW</td>\n",
       "      <td>NaN</td>\n",
       "      <td>ESE</td>\n",
       "      <td>NaN</td>\n",
       "      <td>...</td>\n",
       "      <td>NaN</td>\n",
       "      <td>1001.6</td>\n",
       "      <td>6.0</td>\n",
       "      <td>NaN</td>\n",
       "      <td>31.5</td>\n",
       "      <td>NaN</td>\n",
       "      <td>0.0</td>\n",
       "      <td>0.0</td>\n",
       "      <td>NaN</td>\n",
       "      <td>NaN</td>\n",
       "    </tr>\n",
       "  </tbody>\n",
       "</table>\n",
       "<p>1 rows × 24 columns</p>\n",
       "</div>"
      ],
      "text/plain": [
       "           Date  Loc  TempLow  TempHigh  Steaming  Sun WindDir  WindSpeed  \\\n",
       "503  20130403.0  NaN      NaN       NaN       NaN  NaN     NNW        NaN   \n",
       "\n",
       "    DayWindDir NightWindDir  ...  DayPressure  NightPressure  DayCloud  \\\n",
       "503        ESE          NaN  ...          NaN         1001.6       6.0   \n",
       "\n",
       "     NightCloud  DayTemp  NightTemp  Weather  RISK_MM  loc_lat  loc_long  \n",
       "503         NaN     31.5        NaN      0.0      0.0      NaN       NaN  \n",
       "\n",
       "[1 rows x 24 columns]"
      ]
     },
     "execution_count": 13,
     "metadata": {},
     "output_type": "execute_result"
    }
   ],
   "source": [
    "df_loc.loc[[503],:]"
   ]
  },
  {
   "cell_type": "markdown",
   "metadata": {},
   "source": [
    "#### Drop directions"
   ]
  },
  {
   "cell_type": "code",
   "execution_count": 14,
   "metadata": {},
   "outputs": [],
   "source": [
    "df_preprocessed=df_loc.copy()"
   ]
  },
  {
   "cell_type": "code",
   "execution_count": 15,
   "metadata": {},
   "outputs": [],
   "source": [
    "cols = [\"WindDir\",\"DayWindDir\",\"NightWindDir\"]\n",
    "for item in cols:\n",
    "    df_preprocessed[item] = df_loc[item].astype(\"category\").cat.codes +1"
   ]
  },
  {
   "cell_type": "code",
   "execution_count": 16,
   "metadata": {},
   "outputs": [],
   "source": [
    "df_preprocessed=df_preprocessed.drop(columns = ['Loc',\"DayWindDir\",\"NightWindDir\"])"
   ]
  },
  {
   "cell_type": "markdown",
   "metadata": {},
   "source": [
    "#### One"
   ]
  },
  {
   "cell_type": "code",
   "execution_count": 17,
   "metadata": {},
   "outputs": [],
   "source": [
    "df_preprocessed = pd.get_dummies(df_preprocessed)"
   ]
  },
  {
   "cell_type": "code",
   "execution_count": 18,
   "metadata": {},
   "outputs": [],
   "source": [
    "df_preprocessed = df_preprocessed.fillna(df_preprocessed.median())"
   ]
  },
  {
   "cell_type": "markdown",
   "metadata": {},
   "source": [
    "### Imputation of Missing"
   ]
  },
  {
   "cell_type": "code",
   "execution_count": 19,
   "metadata": {},
   "outputs": [
    {
     "data": {
      "text/html": [
       "<div>\n",
       "<style scoped>\n",
       "    .dataframe tbody tr th:only-of-type {\n",
       "        vertical-align: middle;\n",
       "    }\n",
       "\n",
       "    .dataframe tbody tr th {\n",
       "        vertical-align: top;\n",
       "    }\n",
       "\n",
       "    .dataframe thead th {\n",
       "        text-align: right;\n",
       "    }\n",
       "</style>\n",
       "<table border=\"1\" class=\"dataframe\">\n",
       "  <thead>\n",
       "    <tr style=\"text-align: right;\">\n",
       "      <th></th>\n",
       "      <th>Date</th>\n",
       "      <th>TempLow</th>\n",
       "      <th>TempHigh</th>\n",
       "      <th>Steaming</th>\n",
       "      <th>Sun</th>\n",
       "      <th>WindDir</th>\n",
       "      <th>WindSpeed</th>\n",
       "      <th>DayWindSpeed</th>\n",
       "      <th>NightWindSpeed</th>\n",
       "      <th>DayHumidity</th>\n",
       "      <th>...</th>\n",
       "      <th>DayPressure</th>\n",
       "      <th>NightPressure</th>\n",
       "      <th>DayCloud</th>\n",
       "      <th>NightCloud</th>\n",
       "      <th>DayTemp</th>\n",
       "      <th>NightTemp</th>\n",
       "      <th>Weather</th>\n",
       "      <th>RISK_MM</th>\n",
       "      <th>loc_lat</th>\n",
       "      <th>loc_long</th>\n",
       "    </tr>\n",
       "  </thead>\n",
       "  <tbody>\n",
       "    <tr>\n",
       "      <th>0</th>\n",
       "      <td>20160719.0</td>\n",
       "      <td>19.5</td>\n",
       "      <td>23.3</td>\n",
       "      <td>5.69496</td>\n",
       "      <td>0.500000</td>\n",
       "      <td>2</td>\n",
       "      <td>61.0</td>\n",
       "      <td>31.0</td>\n",
       "      <td>22.000000</td>\n",
       "      <td>86.641375</td>\n",
       "      <td>...</td>\n",
       "      <td>1020.40000</td>\n",
       "      <td>1021.900000</td>\n",
       "      <td>4.167266</td>\n",
       "      <td>7.00000</td>\n",
       "      <td>17.0</td>\n",
       "      <td>19.6</td>\n",
       "      <td>0.0</td>\n",
       "      <td>0.0</td>\n",
       "      <td>-34.424394</td>\n",
       "      <td>145.083635</td>\n",
       "    </tr>\n",
       "    <tr>\n",
       "      <th>1</th>\n",
       "      <td>20100726.0</td>\n",
       "      <td>2.1</td>\n",
       "      <td>15.7</td>\n",
       "      <td>5.69496</td>\n",
       "      <td>5.700000</td>\n",
       "      <td>1</td>\n",
       "      <td>26.0</td>\n",
       "      <td>9.0</td>\n",
       "      <td>7.000000</td>\n",
       "      <td>53.275715</td>\n",
       "      <td>...</td>\n",
       "      <td>1023.70000</td>\n",
       "      <td>1020.800000</td>\n",
       "      <td>4.000000</td>\n",
       "      <td>1.00000</td>\n",
       "      <td>9.0</td>\n",
       "      <td>14.1</td>\n",
       "      <td>0.0</td>\n",
       "      <td>0.0</td>\n",
       "      <td>-35.297591</td>\n",
       "      <td>149.101268</td>\n",
       "    </tr>\n",
       "    <tr>\n",
       "      <th>2</th>\n",
       "      <td>20140402.0</td>\n",
       "      <td>20.9</td>\n",
       "      <td>36.1</td>\n",
       "      <td>5.69496</td>\n",
       "      <td>7.993227</td>\n",
       "      <td>9</td>\n",
       "      <td>39.0</td>\n",
       "      <td>31.0</td>\n",
       "      <td>17.000000</td>\n",
       "      <td>15.471574</td>\n",
       "      <td>...</td>\n",
       "      <td>1017.10000</td>\n",
       "      <td>1014.900000</td>\n",
       "      <td>4.167266</td>\n",
       "      <td>4.27812</td>\n",
       "      <td>24.2</td>\n",
       "      <td>33.9</td>\n",
       "      <td>0.0</td>\n",
       "      <td>0.0</td>\n",
       "      <td>-31.199914</td>\n",
       "      <td>136.825353</td>\n",
       "    </tr>\n",
       "    <tr>\n",
       "      <th>3</th>\n",
       "      <td>20141119.0</td>\n",
       "      <td>11.5</td>\n",
       "      <td>23.9</td>\n",
       "      <td>5.69496</td>\n",
       "      <td>7.993227</td>\n",
       "      <td>6</td>\n",
       "      <td>35.0</td>\n",
       "      <td>7.0</td>\n",
       "      <td>17.000000</td>\n",
       "      <td>46.442398</td>\n",
       "      <td>...</td>\n",
       "      <td>1010.20000</td>\n",
       "      <td>1015.465952</td>\n",
       "      <td>4.167266</td>\n",
       "      <td>4.27812</td>\n",
       "      <td>13.8</td>\n",
       "      <td>21.8</td>\n",
       "      <td>1.0</td>\n",
       "      <td>0.2</td>\n",
       "      <td>-35.420977</td>\n",
       "      <td>149.092134</td>\n",
       "    </tr>\n",
       "    <tr>\n",
       "      <th>4</th>\n",
       "      <td>20130528.0</td>\n",
       "      <td>8.2</td>\n",
       "      <td>20.5</td>\n",
       "      <td>3.20000</td>\n",
       "      <td>7.993227</td>\n",
       "      <td>4</td>\n",
       "      <td>69.0</td>\n",
       "      <td>13.0</td>\n",
       "      <td>18.435879</td>\n",
       "      <td>51.830889</td>\n",
       "      <td>...</td>\n",
       "      <td>1018.03427</td>\n",
       "      <td>1001.200000</td>\n",
       "      <td>7.000000</td>\n",
       "      <td>7.00000</td>\n",
       "      <td>17.0</td>\n",
       "      <td>17.6</td>\n",
       "      <td>0.0</td>\n",
       "      <td>0.6</td>\n",
       "      <td>-42.882509</td>\n",
       "      <td>147.328123</td>\n",
       "    </tr>\n",
       "    <tr>\n",
       "      <th>...</th>\n",
       "      <td>...</td>\n",
       "      <td>...</td>\n",
       "      <td>...</td>\n",
       "      <td>...</td>\n",
       "      <td>...</td>\n",
       "      <td>...</td>\n",
       "      <td>...</td>\n",
       "      <td>...</td>\n",
       "      <td>...</td>\n",
       "      <td>...</td>\n",
       "      <td>...</td>\n",
       "      <td>...</td>\n",
       "      <td>...</td>\n",
       "      <td>...</td>\n",
       "      <td>...</td>\n",
       "      <td>...</td>\n",
       "      <td>...</td>\n",
       "      <td>...</td>\n",
       "      <td>...</td>\n",
       "      <td>...</td>\n",
       "      <td>...</td>\n",
       "    </tr>\n",
       "    <tr>\n",
       "      <th>69995</th>\n",
       "      <td>20111227.0</td>\n",
       "      <td>9.6</td>\n",
       "      <td>21.5</td>\n",
       "      <td>8.00000</td>\n",
       "      <td>12.000000</td>\n",
       "      <td>12</td>\n",
       "      <td>31.0</td>\n",
       "      <td>17.0</td>\n",
       "      <td>9.000000</td>\n",
       "      <td>39.878487</td>\n",
       "      <td>...</td>\n",
       "      <td>1024.50000</td>\n",
       "      <td>1022.800000</td>\n",
       "      <td>0.000000</td>\n",
       "      <td>6.00000</td>\n",
       "      <td>14.3</td>\n",
       "      <td>19.0</td>\n",
       "      <td>0.0</td>\n",
       "      <td>0.0</td>\n",
       "      <td>-34.424394</td>\n",
       "      <td>145.083635</td>\n",
       "    </tr>\n",
       "    <tr>\n",
       "      <th>69996</th>\n",
       "      <td>20130528.0</td>\n",
       "      <td>11.6</td>\n",
       "      <td>31.4</td>\n",
       "      <td>5.69496</td>\n",
       "      <td>7.993227</td>\n",
       "      <td>6</td>\n",
       "      <td>39.0</td>\n",
       "      <td>7.0</td>\n",
       "      <td>18.435879</td>\n",
       "      <td>52.307109</td>\n",
       "      <td>...</td>\n",
       "      <td>1019.10000</td>\n",
       "      <td>1016.300000</td>\n",
       "      <td>4.167266</td>\n",
       "      <td>4.27812</td>\n",
       "      <td>19.3</td>\n",
       "      <td>21.8</td>\n",
       "      <td>0.0</td>\n",
       "      <td>0.0</td>\n",
       "      <td>-35.297591</td>\n",
       "      <td>149.101268</td>\n",
       "    </tr>\n",
       "    <tr>\n",
       "      <th>69997</th>\n",
       "      <td>20110122.0</td>\n",
       "      <td>22.2</td>\n",
       "      <td>34.5</td>\n",
       "      <td>5.69496</td>\n",
       "      <td>7.600000</td>\n",
       "      <td>6</td>\n",
       "      <td>39.0</td>\n",
       "      <td>26.0</td>\n",
       "      <td>18.435879</td>\n",
       "      <td>30.743840</td>\n",
       "      <td>...</td>\n",
       "      <td>1018.03427</td>\n",
       "      <td>1008.500000</td>\n",
       "      <td>7.000000</td>\n",
       "      <td>7.00000</td>\n",
       "      <td>25.2</td>\n",
       "      <td>21.8</td>\n",
       "      <td>0.0</td>\n",
       "      <td>0.0</td>\n",
       "      <td>-29.461720</td>\n",
       "      <td>149.840715</td>\n",
       "    </tr>\n",
       "    <tr>\n",
       "      <th>69998</th>\n",
       "      <td>20101002.0</td>\n",
       "      <td>16.4</td>\n",
       "      <td>43.5</td>\n",
       "      <td>7.00000</td>\n",
       "      <td>12.700000</td>\n",
       "      <td>2</td>\n",
       "      <td>43.0</td>\n",
       "      <td>19.0</td>\n",
       "      <td>19.000000</td>\n",
       "      <td>28.084916</td>\n",
       "      <td>...</td>\n",
       "      <td>1014.20000</td>\n",
       "      <td>1010.500000</td>\n",
       "      <td>0.000000</td>\n",
       "      <td>4.27812</td>\n",
       "      <td>28.9</td>\n",
       "      <td>21.8</td>\n",
       "      <td>0.0</td>\n",
       "      <td>0.0</td>\n",
       "      <td>-34.184726</td>\n",
       "      <td>142.162497</td>\n",
       "    </tr>\n",
       "    <tr>\n",
       "      <th>69999</th>\n",
       "      <td>20090116.0</td>\n",
       "      <td>6.9</td>\n",
       "      <td>23.3</td>\n",
       "      <td>6.60000</td>\n",
       "      <td>10.600000</td>\n",
       "      <td>5</td>\n",
       "      <td>39.0</td>\n",
       "      <td>13.0</td>\n",
       "      <td>19.000000</td>\n",
       "      <td>30.948435</td>\n",
       "      <td>...</td>\n",
       "      <td>1017.80000</td>\n",
       "      <td>1011.800000</td>\n",
       "      <td>4.167266</td>\n",
       "      <td>4.27812</td>\n",
       "      <td>19.4</td>\n",
       "      <td>21.8</td>\n",
       "      <td>0.0</td>\n",
       "      <td>0.0</td>\n",
       "      <td>-32.815000</td>\n",
       "      <td>151.842778</td>\n",
       "    </tr>\n",
       "  </tbody>\n",
       "</table>\n",
       "<p>70000 rows × 21 columns</p>\n",
       "</div>"
      ],
      "text/plain": [
       "             Date  TempLow  TempHigh  Steaming        Sun  WindDir  WindSpeed  \\\n",
       "0      20160719.0     19.5      23.3   5.69496   0.500000        2       61.0   \n",
       "1      20100726.0      2.1      15.7   5.69496   5.700000        1       26.0   \n",
       "2      20140402.0     20.9      36.1   5.69496   7.993227        9       39.0   \n",
       "3      20141119.0     11.5      23.9   5.69496   7.993227        6       35.0   \n",
       "4      20130528.0      8.2      20.5   3.20000   7.993227        4       69.0   \n",
       "...           ...      ...       ...       ...        ...      ...        ...   \n",
       "69995  20111227.0      9.6      21.5   8.00000  12.000000       12       31.0   \n",
       "69996  20130528.0     11.6      31.4   5.69496   7.993227        6       39.0   \n",
       "69997  20110122.0     22.2      34.5   5.69496   7.600000        6       39.0   \n",
       "69998  20101002.0     16.4      43.5   7.00000  12.700000        2       43.0   \n",
       "69999  20090116.0      6.9      23.3   6.60000  10.600000        5       39.0   \n",
       "\n",
       "       DayWindSpeed  NightWindSpeed  DayHumidity  ...  DayPressure  \\\n",
       "0              31.0       22.000000    86.641375  ...   1020.40000   \n",
       "1               9.0        7.000000    53.275715  ...   1023.70000   \n",
       "2              31.0       17.000000    15.471574  ...   1017.10000   \n",
       "3               7.0       17.000000    46.442398  ...   1010.20000   \n",
       "4              13.0       18.435879    51.830889  ...   1018.03427   \n",
       "...             ...             ...          ...  ...          ...   \n",
       "69995          17.0        9.000000    39.878487  ...   1024.50000   \n",
       "69996           7.0       18.435879    52.307109  ...   1019.10000   \n",
       "69997          26.0       18.435879    30.743840  ...   1018.03427   \n",
       "69998          19.0       19.000000    28.084916  ...   1014.20000   \n",
       "69999          13.0       19.000000    30.948435  ...   1017.80000   \n",
       "\n",
       "       NightPressure  DayCloud  NightCloud  DayTemp  NightTemp  Weather  \\\n",
       "0        1021.900000  4.167266     7.00000     17.0       19.6      0.0   \n",
       "1        1020.800000  4.000000     1.00000      9.0       14.1      0.0   \n",
       "2        1014.900000  4.167266     4.27812     24.2       33.9      0.0   \n",
       "3        1015.465952  4.167266     4.27812     13.8       21.8      1.0   \n",
       "4        1001.200000  7.000000     7.00000     17.0       17.6      0.0   \n",
       "...              ...       ...         ...      ...        ...      ...   \n",
       "69995    1022.800000  0.000000     6.00000     14.3       19.0      0.0   \n",
       "69996    1016.300000  4.167266     4.27812     19.3       21.8      0.0   \n",
       "69997    1008.500000  7.000000     7.00000     25.2       21.8      0.0   \n",
       "69998    1010.500000  0.000000     4.27812     28.9       21.8      0.0   \n",
       "69999    1011.800000  4.167266     4.27812     19.4       21.8      0.0   \n",
       "\n",
       "       RISK_MM    loc_lat    loc_long  \n",
       "0          0.0 -34.424394  145.083635  \n",
       "1          0.0 -35.297591  149.101268  \n",
       "2          0.0 -31.199914  136.825353  \n",
       "3          0.2 -35.420977  149.092134  \n",
       "4          0.6 -42.882509  147.328123  \n",
       "...        ...        ...         ...  \n",
       "69995      0.0 -34.424394  145.083635  \n",
       "69996      0.0 -35.297591  149.101268  \n",
       "69997      0.0 -29.461720  149.840715  \n",
       "69998      0.0 -34.184726  142.162497  \n",
       "69999      0.0 -32.815000  151.842778  \n",
       "\n",
       "[70000 rows x 21 columns]"
      ]
     },
     "execution_count": 19,
     "metadata": {},
     "output_type": "execute_result"
    }
   ],
   "source": [
    "df_preprocessed"
   ]
  },
  {
   "cell_type": "markdown",
   "metadata": {},
   "source": [
    "### Other"
   ]
  },
  {
   "cell_type": "code",
   "execution_count": 20,
   "metadata": {},
   "outputs": [],
   "source": [
    "from sklearn.impute import KNNImputer"
   ]
  },
  {
   "cell_type": "code",
   "execution_count": 21,
   "metadata": {},
   "outputs": [],
   "source": [
    "# imputer = KNNImputer()"
   ]
  },
  {
   "cell_type": "code",
   "execution_count": 22,
   "metadata": {},
   "outputs": [],
   "source": [
    "# imputer.fit(df_preprocessed)"
   ]
  },
  {
   "cell_type": "code",
   "execution_count": 23,
   "metadata": {},
   "outputs": [],
   "source": [
    "# df_preprocessed_kn: pd.DataFrame = imputer.transform(df_preprocessed)"
   ]
  },
  {
   "cell_type": "code",
   "execution_count": 24,
   "metadata": {},
   "outputs": [],
   "source": [
    "# df_preprocessed_kn: pd.DataFrame=df_preprocessed_kn"
   ]
  },
  {
   "cell_type": "code",
   "execution_count": 25,
   "metadata": {},
   "outputs": [],
   "source": [
    "# df_preprocessed.columns"
   ]
  },
  {
   "cell_type": "code",
   "execution_count": 26,
   "metadata": {},
   "outputs": [],
   "source": [
    "# df_preprocessed_knn=pd.DataFrame(data=df_preprocessed_kn, columns=df_preprocessed.columns) "
   ]
  },
  {
   "cell_type": "code",
   "execution_count": 27,
   "metadata": {},
   "outputs": [],
   "source": [
    "# df_preprocessed_kn"
   ]
  },
  {
   "cell_type": "markdown",
   "metadata": {},
   "source": [
    "#### Original"
   ]
  },
  {
   "cell_type": "code",
   "execution_count": 28,
   "metadata": {},
   "outputs": [],
   "source": [
    "df_preprocessed = df_preprocessed.fillna(df_preprocessed.median())"
   ]
  },
  {
   "cell_type": "code",
   "execution_count": 29,
   "metadata": {},
   "outputs": [
    {
     "data": {
      "text/html": [
       "<div>\n",
       "<style scoped>\n",
       "    .dataframe tbody tr th:only-of-type {\n",
       "        vertical-align: middle;\n",
       "    }\n",
       "\n",
       "    .dataframe tbody tr th {\n",
       "        vertical-align: top;\n",
       "    }\n",
       "\n",
       "    .dataframe thead th {\n",
       "        text-align: right;\n",
       "    }\n",
       "</style>\n",
       "<table border=\"1\" class=\"dataframe\">\n",
       "  <thead>\n",
       "    <tr style=\"text-align: right;\">\n",
       "      <th></th>\n",
       "      <th>Date</th>\n",
       "      <th>TempLow</th>\n",
       "      <th>TempHigh</th>\n",
       "      <th>Steaming</th>\n",
       "      <th>Sun</th>\n",
       "      <th>WindDir</th>\n",
       "      <th>WindSpeed</th>\n",
       "      <th>DayWindSpeed</th>\n",
       "      <th>NightWindSpeed</th>\n",
       "      <th>DayHumidity</th>\n",
       "      <th>...</th>\n",
       "      <th>DayPressure</th>\n",
       "      <th>NightPressure</th>\n",
       "      <th>DayCloud</th>\n",
       "      <th>NightCloud</th>\n",
       "      <th>DayTemp</th>\n",
       "      <th>NightTemp</th>\n",
       "      <th>Weather</th>\n",
       "      <th>RISK_MM</th>\n",
       "      <th>loc_lat</th>\n",
       "      <th>loc_long</th>\n",
       "    </tr>\n",
       "  </thead>\n",
       "  <tbody>\n",
       "    <tr>\n",
       "      <th>0</th>\n",
       "      <td>20160719.0</td>\n",
       "      <td>19.5</td>\n",
       "      <td>23.3</td>\n",
       "      <td>5.69496</td>\n",
       "      <td>0.500000</td>\n",
       "      <td>2</td>\n",
       "      <td>61.0</td>\n",
       "      <td>31.0</td>\n",
       "      <td>22.000000</td>\n",
       "      <td>86.641375</td>\n",
       "      <td>...</td>\n",
       "      <td>1020.40000</td>\n",
       "      <td>1021.900000</td>\n",
       "      <td>4.167266</td>\n",
       "      <td>7.00000</td>\n",
       "      <td>17.0</td>\n",
       "      <td>19.6</td>\n",
       "      <td>0.0</td>\n",
       "      <td>0.0</td>\n",
       "      <td>-34.424394</td>\n",
       "      <td>145.083635</td>\n",
       "    </tr>\n",
       "    <tr>\n",
       "      <th>1</th>\n",
       "      <td>20100726.0</td>\n",
       "      <td>2.1</td>\n",
       "      <td>15.7</td>\n",
       "      <td>5.69496</td>\n",
       "      <td>5.700000</td>\n",
       "      <td>1</td>\n",
       "      <td>26.0</td>\n",
       "      <td>9.0</td>\n",
       "      <td>7.000000</td>\n",
       "      <td>53.275715</td>\n",
       "      <td>...</td>\n",
       "      <td>1023.70000</td>\n",
       "      <td>1020.800000</td>\n",
       "      <td>4.000000</td>\n",
       "      <td>1.00000</td>\n",
       "      <td>9.0</td>\n",
       "      <td>14.1</td>\n",
       "      <td>0.0</td>\n",
       "      <td>0.0</td>\n",
       "      <td>-35.297591</td>\n",
       "      <td>149.101268</td>\n",
       "    </tr>\n",
       "    <tr>\n",
       "      <th>2</th>\n",
       "      <td>20140402.0</td>\n",
       "      <td>20.9</td>\n",
       "      <td>36.1</td>\n",
       "      <td>5.69496</td>\n",
       "      <td>7.993227</td>\n",
       "      <td>9</td>\n",
       "      <td>39.0</td>\n",
       "      <td>31.0</td>\n",
       "      <td>17.000000</td>\n",
       "      <td>15.471574</td>\n",
       "      <td>...</td>\n",
       "      <td>1017.10000</td>\n",
       "      <td>1014.900000</td>\n",
       "      <td>4.167266</td>\n",
       "      <td>4.27812</td>\n",
       "      <td>24.2</td>\n",
       "      <td>33.9</td>\n",
       "      <td>0.0</td>\n",
       "      <td>0.0</td>\n",
       "      <td>-31.199914</td>\n",
       "      <td>136.825353</td>\n",
       "    </tr>\n",
       "    <tr>\n",
       "      <th>3</th>\n",
       "      <td>20141119.0</td>\n",
       "      <td>11.5</td>\n",
       "      <td>23.9</td>\n",
       "      <td>5.69496</td>\n",
       "      <td>7.993227</td>\n",
       "      <td>6</td>\n",
       "      <td>35.0</td>\n",
       "      <td>7.0</td>\n",
       "      <td>17.000000</td>\n",
       "      <td>46.442398</td>\n",
       "      <td>...</td>\n",
       "      <td>1010.20000</td>\n",
       "      <td>1015.465952</td>\n",
       "      <td>4.167266</td>\n",
       "      <td>4.27812</td>\n",
       "      <td>13.8</td>\n",
       "      <td>21.8</td>\n",
       "      <td>1.0</td>\n",
       "      <td>0.2</td>\n",
       "      <td>-35.420977</td>\n",
       "      <td>149.092134</td>\n",
       "    </tr>\n",
       "    <tr>\n",
       "      <th>4</th>\n",
       "      <td>20130528.0</td>\n",
       "      <td>8.2</td>\n",
       "      <td>20.5</td>\n",
       "      <td>3.20000</td>\n",
       "      <td>7.993227</td>\n",
       "      <td>4</td>\n",
       "      <td>69.0</td>\n",
       "      <td>13.0</td>\n",
       "      <td>18.435879</td>\n",
       "      <td>51.830889</td>\n",
       "      <td>...</td>\n",
       "      <td>1018.03427</td>\n",
       "      <td>1001.200000</td>\n",
       "      <td>7.000000</td>\n",
       "      <td>7.00000</td>\n",
       "      <td>17.0</td>\n",
       "      <td>17.6</td>\n",
       "      <td>0.0</td>\n",
       "      <td>0.6</td>\n",
       "      <td>-42.882509</td>\n",
       "      <td>147.328123</td>\n",
       "    </tr>\n",
       "    <tr>\n",
       "      <th>...</th>\n",
       "      <td>...</td>\n",
       "      <td>...</td>\n",
       "      <td>...</td>\n",
       "      <td>...</td>\n",
       "      <td>...</td>\n",
       "      <td>...</td>\n",
       "      <td>...</td>\n",
       "      <td>...</td>\n",
       "      <td>...</td>\n",
       "      <td>...</td>\n",
       "      <td>...</td>\n",
       "      <td>...</td>\n",
       "      <td>...</td>\n",
       "      <td>...</td>\n",
       "      <td>...</td>\n",
       "      <td>...</td>\n",
       "      <td>...</td>\n",
       "      <td>...</td>\n",
       "      <td>...</td>\n",
       "      <td>...</td>\n",
       "      <td>...</td>\n",
       "    </tr>\n",
       "    <tr>\n",
       "      <th>69995</th>\n",
       "      <td>20111227.0</td>\n",
       "      <td>9.6</td>\n",
       "      <td>21.5</td>\n",
       "      <td>8.00000</td>\n",
       "      <td>12.000000</td>\n",
       "      <td>12</td>\n",
       "      <td>31.0</td>\n",
       "      <td>17.0</td>\n",
       "      <td>9.000000</td>\n",
       "      <td>39.878487</td>\n",
       "      <td>...</td>\n",
       "      <td>1024.50000</td>\n",
       "      <td>1022.800000</td>\n",
       "      <td>0.000000</td>\n",
       "      <td>6.00000</td>\n",
       "      <td>14.3</td>\n",
       "      <td>19.0</td>\n",
       "      <td>0.0</td>\n",
       "      <td>0.0</td>\n",
       "      <td>-34.424394</td>\n",
       "      <td>145.083635</td>\n",
       "    </tr>\n",
       "    <tr>\n",
       "      <th>69996</th>\n",
       "      <td>20130528.0</td>\n",
       "      <td>11.6</td>\n",
       "      <td>31.4</td>\n",
       "      <td>5.69496</td>\n",
       "      <td>7.993227</td>\n",
       "      <td>6</td>\n",
       "      <td>39.0</td>\n",
       "      <td>7.0</td>\n",
       "      <td>18.435879</td>\n",
       "      <td>52.307109</td>\n",
       "      <td>...</td>\n",
       "      <td>1019.10000</td>\n",
       "      <td>1016.300000</td>\n",
       "      <td>4.167266</td>\n",
       "      <td>4.27812</td>\n",
       "      <td>19.3</td>\n",
       "      <td>21.8</td>\n",
       "      <td>0.0</td>\n",
       "      <td>0.0</td>\n",
       "      <td>-35.297591</td>\n",
       "      <td>149.101268</td>\n",
       "    </tr>\n",
       "    <tr>\n",
       "      <th>69997</th>\n",
       "      <td>20110122.0</td>\n",
       "      <td>22.2</td>\n",
       "      <td>34.5</td>\n",
       "      <td>5.69496</td>\n",
       "      <td>7.600000</td>\n",
       "      <td>6</td>\n",
       "      <td>39.0</td>\n",
       "      <td>26.0</td>\n",
       "      <td>18.435879</td>\n",
       "      <td>30.743840</td>\n",
       "      <td>...</td>\n",
       "      <td>1018.03427</td>\n",
       "      <td>1008.500000</td>\n",
       "      <td>7.000000</td>\n",
       "      <td>7.00000</td>\n",
       "      <td>25.2</td>\n",
       "      <td>21.8</td>\n",
       "      <td>0.0</td>\n",
       "      <td>0.0</td>\n",
       "      <td>-29.461720</td>\n",
       "      <td>149.840715</td>\n",
       "    </tr>\n",
       "    <tr>\n",
       "      <th>69998</th>\n",
       "      <td>20101002.0</td>\n",
       "      <td>16.4</td>\n",
       "      <td>43.5</td>\n",
       "      <td>7.00000</td>\n",
       "      <td>12.700000</td>\n",
       "      <td>2</td>\n",
       "      <td>43.0</td>\n",
       "      <td>19.0</td>\n",
       "      <td>19.000000</td>\n",
       "      <td>28.084916</td>\n",
       "      <td>...</td>\n",
       "      <td>1014.20000</td>\n",
       "      <td>1010.500000</td>\n",
       "      <td>0.000000</td>\n",
       "      <td>4.27812</td>\n",
       "      <td>28.9</td>\n",
       "      <td>21.8</td>\n",
       "      <td>0.0</td>\n",
       "      <td>0.0</td>\n",
       "      <td>-34.184726</td>\n",
       "      <td>142.162497</td>\n",
       "    </tr>\n",
       "    <tr>\n",
       "      <th>69999</th>\n",
       "      <td>20090116.0</td>\n",
       "      <td>6.9</td>\n",
       "      <td>23.3</td>\n",
       "      <td>6.60000</td>\n",
       "      <td>10.600000</td>\n",
       "      <td>5</td>\n",
       "      <td>39.0</td>\n",
       "      <td>13.0</td>\n",
       "      <td>19.000000</td>\n",
       "      <td>30.948435</td>\n",
       "      <td>...</td>\n",
       "      <td>1017.80000</td>\n",
       "      <td>1011.800000</td>\n",
       "      <td>4.167266</td>\n",
       "      <td>4.27812</td>\n",
       "      <td>19.4</td>\n",
       "      <td>21.8</td>\n",
       "      <td>0.0</td>\n",
       "      <td>0.0</td>\n",
       "      <td>-32.815000</td>\n",
       "      <td>151.842778</td>\n",
       "    </tr>\n",
       "  </tbody>\n",
       "</table>\n",
       "<p>70000 rows × 21 columns</p>\n",
       "</div>"
      ],
      "text/plain": [
       "             Date  TempLow  TempHigh  Steaming        Sun  WindDir  WindSpeed  \\\n",
       "0      20160719.0     19.5      23.3   5.69496   0.500000        2       61.0   \n",
       "1      20100726.0      2.1      15.7   5.69496   5.700000        1       26.0   \n",
       "2      20140402.0     20.9      36.1   5.69496   7.993227        9       39.0   \n",
       "3      20141119.0     11.5      23.9   5.69496   7.993227        6       35.0   \n",
       "4      20130528.0      8.2      20.5   3.20000   7.993227        4       69.0   \n",
       "...           ...      ...       ...       ...        ...      ...        ...   \n",
       "69995  20111227.0      9.6      21.5   8.00000  12.000000       12       31.0   \n",
       "69996  20130528.0     11.6      31.4   5.69496   7.993227        6       39.0   \n",
       "69997  20110122.0     22.2      34.5   5.69496   7.600000        6       39.0   \n",
       "69998  20101002.0     16.4      43.5   7.00000  12.700000        2       43.0   \n",
       "69999  20090116.0      6.9      23.3   6.60000  10.600000        5       39.0   \n",
       "\n",
       "       DayWindSpeed  NightWindSpeed  DayHumidity  ...  DayPressure  \\\n",
       "0              31.0       22.000000    86.641375  ...   1020.40000   \n",
       "1               9.0        7.000000    53.275715  ...   1023.70000   \n",
       "2              31.0       17.000000    15.471574  ...   1017.10000   \n",
       "3               7.0       17.000000    46.442398  ...   1010.20000   \n",
       "4              13.0       18.435879    51.830889  ...   1018.03427   \n",
       "...             ...             ...          ...  ...          ...   \n",
       "69995          17.0        9.000000    39.878487  ...   1024.50000   \n",
       "69996           7.0       18.435879    52.307109  ...   1019.10000   \n",
       "69997          26.0       18.435879    30.743840  ...   1018.03427   \n",
       "69998          19.0       19.000000    28.084916  ...   1014.20000   \n",
       "69999          13.0       19.000000    30.948435  ...   1017.80000   \n",
       "\n",
       "       NightPressure  DayCloud  NightCloud  DayTemp  NightTemp  Weather  \\\n",
       "0        1021.900000  4.167266     7.00000     17.0       19.6      0.0   \n",
       "1        1020.800000  4.000000     1.00000      9.0       14.1      0.0   \n",
       "2        1014.900000  4.167266     4.27812     24.2       33.9      0.0   \n",
       "3        1015.465952  4.167266     4.27812     13.8       21.8      1.0   \n",
       "4        1001.200000  7.000000     7.00000     17.0       17.6      0.0   \n",
       "...              ...       ...         ...      ...        ...      ...   \n",
       "69995    1022.800000  0.000000     6.00000     14.3       19.0      0.0   \n",
       "69996    1016.300000  4.167266     4.27812     19.3       21.8      0.0   \n",
       "69997    1008.500000  7.000000     7.00000     25.2       21.8      0.0   \n",
       "69998    1010.500000  0.000000     4.27812     28.9       21.8      0.0   \n",
       "69999    1011.800000  4.167266     4.27812     19.4       21.8      0.0   \n",
       "\n",
       "       RISK_MM    loc_lat    loc_long  \n",
       "0          0.0 -34.424394  145.083635  \n",
       "1          0.0 -35.297591  149.101268  \n",
       "2          0.0 -31.199914  136.825353  \n",
       "3          0.2 -35.420977  149.092134  \n",
       "4          0.6 -42.882509  147.328123  \n",
       "...        ...        ...         ...  \n",
       "69995      0.0 -34.424394  145.083635  \n",
       "69996      0.0 -35.297591  149.101268  \n",
       "69997      0.0 -29.461720  149.840715  \n",
       "69998      0.0 -34.184726  142.162497  \n",
       "69999      0.0 -32.815000  151.842778  \n",
       "\n",
       "[70000 rows x 21 columns]"
      ]
     },
     "execution_count": 29,
     "metadata": {},
     "output_type": "execute_result"
    }
   ],
   "source": [
    "df_preprocessed"
   ]
  },
  {
   "cell_type": "code",
   "execution_count": 30,
   "metadata": {},
   "outputs": [
    {
     "data": {
      "text/plain": [
       "Date              float64\n",
       "TempLow           float64\n",
       "TempHigh          float64\n",
       "Steaming          float64\n",
       "Sun               float64\n",
       "WindDir              int8\n",
       "WindSpeed         float64\n",
       "DayWindSpeed      float64\n",
       "NightWindSpeed    float64\n",
       "DayHumidity       float64\n",
       "NightHumidity     float64\n",
       "DayPressure       float64\n",
       "NightPressure     float64\n",
       "DayCloud          float64\n",
       "NightCloud        float64\n",
       "DayTemp           float64\n",
       "NightTemp         float64\n",
       "Weather           float64\n",
       "RISK_MM           float64\n",
       "loc_lat           float64\n",
       "loc_long          float64\n",
       "dtype: object"
      ]
     },
     "execution_count": 30,
     "metadata": {},
     "output_type": "execute_result"
    }
   ],
   "source": [
    "df_preprocessed.dtypes"
   ]
  },
  {
   "cell_type": "markdown",
   "metadata": {},
   "source": [
    "#### Using KNN dataframe"
   ]
  },
  {
   "cell_type": "code",
   "execution_count": 31,
   "metadata": {},
   "outputs": [],
   "source": [
    "# from sklearn.model_selection import train_test_split\n",
    "# x_train, x_val, y_train, y_val = train_test_split(df_preprocessed_knn.drop(columns = ['Weather']).iloc[:train_end_id, :],df_preprocessed_knn['Weather'].iloc[:train_end_id], test_size=0.25)"
   ]
  },
  {
   "cell_type": "code",
   "execution_count": 32,
   "metadata": {},
   "outputs": [],
   "source": [
    "# x_test = df_preprocessed_knn.drop(columns = ['Weather']).iloc[train_end_id:, :]"
   ]
  },
  {
   "cell_type": "markdown",
   "metadata": {},
   "source": [
    "#### Origin"
   ]
  },
  {
   "cell_type": "code",
   "execution_count": 33,
   "metadata": {},
   "outputs": [],
   "source": [
    "from sklearn.model_selection import train_test_split\n",
    "x_train, x_val, y_train, y_val = train_test_split(df_preprocessed.drop(columns = ['Weather']).iloc[:train_end_id, :],df_preprocessed['Weather'].iloc[:train_end_id], test_size=0.25)"
   ]
  },
  {
   "cell_type": "code",
   "execution_count": 34,
   "metadata": {},
   "outputs": [],
   "source": [
    "x_test = df_preprocessed.drop(columns = ['Weather']).iloc[train_end_id:, :]"
   ]
  },
  {
   "cell_type": "code",
   "execution_count": 35,
   "metadata": {},
   "outputs": [
    {
     "data": {
      "text/html": [
       "<div>\n",
       "<style scoped>\n",
       "    .dataframe tbody tr th:only-of-type {\n",
       "        vertical-align: middle;\n",
       "    }\n",
       "\n",
       "    .dataframe tbody tr th {\n",
       "        vertical-align: top;\n",
       "    }\n",
       "\n",
       "    .dataframe thead th {\n",
       "        text-align: right;\n",
       "    }\n",
       "</style>\n",
       "<table border=\"1\" class=\"dataframe\">\n",
       "  <thead>\n",
       "    <tr style=\"text-align: right;\">\n",
       "      <th></th>\n",
       "      <th>Date</th>\n",
       "      <th>TempLow</th>\n",
       "      <th>TempHigh</th>\n",
       "      <th>Steaming</th>\n",
       "      <th>Sun</th>\n",
       "      <th>WindDir</th>\n",
       "      <th>WindSpeed</th>\n",
       "      <th>DayWindSpeed</th>\n",
       "      <th>NightWindSpeed</th>\n",
       "      <th>DayHumidity</th>\n",
       "      <th>NightHumidity</th>\n",
       "      <th>DayPressure</th>\n",
       "      <th>NightPressure</th>\n",
       "      <th>DayCloud</th>\n",
       "      <th>NightCloud</th>\n",
       "      <th>DayTemp</th>\n",
       "      <th>NightTemp</th>\n",
       "      <th>RISK_MM</th>\n",
       "      <th>loc_lat</th>\n",
       "      <th>loc_long</th>\n",
       "    </tr>\n",
       "  </thead>\n",
       "  <tbody>\n",
       "    <tr>\n",
       "      <th>5284</th>\n",
       "      <td>20121111.0</td>\n",
       "      <td>17.1</td>\n",
       "      <td>22.2</td>\n",
       "      <td>4.20000</td>\n",
       "      <td>7.993227</td>\n",
       "      <td>0</td>\n",
       "      <td>39.38315</td>\n",
       "      <td>15.0</td>\n",
       "      <td>18.435879</td>\n",
       "      <td>53.212563</td>\n",
       "      <td>67.577298</td>\n",
       "      <td>1018.70000</td>\n",
       "      <td>1015.465952</td>\n",
       "      <td>7.000000</td>\n",
       "      <td>4.27812</td>\n",
       "      <td>17.0</td>\n",
       "      <td>22.157059</td>\n",
       "      <td>0.0</td>\n",
       "      <td>-35.024782</td>\n",
       "      <td>117.883608</td>\n",
       "    </tr>\n",
       "    <tr>\n",
       "      <th>10715</th>\n",
       "      <td>20150916.0</td>\n",
       "      <td>12.0</td>\n",
       "      <td>17.1</td>\n",
       "      <td>5.69496</td>\n",
       "      <td>7.993227</td>\n",
       "      <td>0</td>\n",
       "      <td>24.00000</td>\n",
       "      <td>13.0</td>\n",
       "      <td>18.435879</td>\n",
       "      <td>70.891022</td>\n",
       "      <td>60.536428</td>\n",
       "      <td>1023.60000</td>\n",
       "      <td>1022.200000</td>\n",
       "      <td>7.000000</td>\n",
       "      <td>8.00000</td>\n",
       "      <td>13.5</td>\n",
       "      <td>16.700000</td>\n",
       "      <td>0.0</td>\n",
       "      <td>-34.424394</td>\n",
       "      <td>145.083635</td>\n",
       "    </tr>\n",
       "    <tr>\n",
       "      <th>23978</th>\n",
       "      <td>20130528.0</td>\n",
       "      <td>12.6</td>\n",
       "      <td>23.3</td>\n",
       "      <td>5.69496</td>\n",
       "      <td>7.993227</td>\n",
       "      <td>14</td>\n",
       "      <td>52.00000</td>\n",
       "      <td>13.0</td>\n",
       "      <td>20.000000</td>\n",
       "      <td>52.612816</td>\n",
       "      <td>59.631471</td>\n",
       "      <td>1018.03427</td>\n",
       "      <td>1015.465952</td>\n",
       "      <td>8.000000</td>\n",
       "      <td>1.00000</td>\n",
       "      <td>14.7</td>\n",
       "      <td>18.200000</td>\n",
       "      <td>3.0</td>\n",
       "      <td>-41.434081</td>\n",
       "      <td>147.137350</td>\n",
       "    </tr>\n",
       "    <tr>\n",
       "      <th>1285</th>\n",
       "      <td>20130528.0</td>\n",
       "      <td>19.1</td>\n",
       "      <td>32.4</td>\n",
       "      <td>5.69496</td>\n",
       "      <td>13.200000</td>\n",
       "      <td>14</td>\n",
       "      <td>33.00000</td>\n",
       "      <td>13.0</td>\n",
       "      <td>24.000000</td>\n",
       "      <td>52.307109</td>\n",
       "      <td>51.770240</td>\n",
       "      <td>1011.40000</td>\n",
       "      <td>1010.400000</td>\n",
       "      <td>2.000000</td>\n",
       "      <td>3.00000</td>\n",
       "      <td>29.3</td>\n",
       "      <td>21.800000</td>\n",
       "      <td>0.0</td>\n",
       "      <td>-34.424394</td>\n",
       "      <td>145.083635</td>\n",
       "    </tr>\n",
       "    <tr>\n",
       "      <th>24583</th>\n",
       "      <td>20110827.0</td>\n",
       "      <td>12.6</td>\n",
       "      <td>20.5</td>\n",
       "      <td>5.69496</td>\n",
       "      <td>9.800000</td>\n",
       "      <td>0</td>\n",
       "      <td>54.00000</td>\n",
       "      <td>20.0</td>\n",
       "      <td>20.000000</td>\n",
       "      <td>52.830881</td>\n",
       "      <td>51.919749</td>\n",
       "      <td>1018.03427</td>\n",
       "      <td>1013.000000</td>\n",
       "      <td>4.167266</td>\n",
       "      <td>3.00000</td>\n",
       "      <td>16.1</td>\n",
       "      <td>20.000000</td>\n",
       "      <td>0.0</td>\n",
       "      <td>-34.424394</td>\n",
       "      <td>145.083635</td>\n",
       "    </tr>\n",
       "    <tr>\n",
       "      <th>...</th>\n",
       "      <td>...</td>\n",
       "      <td>...</td>\n",
       "      <td>...</td>\n",
       "      <td>...</td>\n",
       "      <td>...</td>\n",
       "      <td>...</td>\n",
       "      <td>...</td>\n",
       "      <td>...</td>\n",
       "      <td>...</td>\n",
       "      <td>...</td>\n",
       "      <td>...</td>\n",
       "      <td>...</td>\n",
       "      <td>...</td>\n",
       "      <td>...</td>\n",
       "      <td>...</td>\n",
       "      <td>...</td>\n",
       "      <td>...</td>\n",
       "      <td>...</td>\n",
       "      <td>...</td>\n",
       "      <td>...</td>\n",
       "    </tr>\n",
       "    <tr>\n",
       "      <th>16531</th>\n",
       "      <td>20090305.0</td>\n",
       "      <td>5.2</td>\n",
       "      <td>15.0</td>\n",
       "      <td>2.80000</td>\n",
       "      <td>5.400000</td>\n",
       "      <td>9</td>\n",
       "      <td>31.00000</td>\n",
       "      <td>13.0</td>\n",
       "      <td>17.000000</td>\n",
       "      <td>65.587074</td>\n",
       "      <td>41.362835</td>\n",
       "      <td>1034.40000</td>\n",
       "      <td>1032.600000</td>\n",
       "      <td>2.000000</td>\n",
       "      <td>7.00000</td>\n",
       "      <td>12.4</td>\n",
       "      <td>13.400000</td>\n",
       "      <td>0.0</td>\n",
       "      <td>-42.882509</td>\n",
       "      <td>147.328123</td>\n",
       "    </tr>\n",
       "    <tr>\n",
       "      <th>19398</th>\n",
       "      <td>20170112.0</td>\n",
       "      <td>5.0</td>\n",
       "      <td>17.7</td>\n",
       "      <td>3.80000</td>\n",
       "      <td>10.400000</td>\n",
       "      <td>0</td>\n",
       "      <td>46.00000</td>\n",
       "      <td>22.0</td>\n",
       "      <td>30.000000</td>\n",
       "      <td>30.507485</td>\n",
       "      <td>55.284498</td>\n",
       "      <td>1020.40000</td>\n",
       "      <td>1017.700000</td>\n",
       "      <td>0.000000</td>\n",
       "      <td>0.00000</td>\n",
       "      <td>17.0</td>\n",
       "      <td>17.100000</td>\n",
       "      <td>0.0</td>\n",
       "      <td>-29.461720</td>\n",
       "      <td>149.840715</td>\n",
       "    </tr>\n",
       "    <tr>\n",
       "      <th>25958</th>\n",
       "      <td>20121003.0</td>\n",
       "      <td>12.0</td>\n",
       "      <td>18.1</td>\n",
       "      <td>1.00000</td>\n",
       "      <td>10.100000</td>\n",
       "      <td>0</td>\n",
       "      <td>39.00000</td>\n",
       "      <td>15.0</td>\n",
       "      <td>18.435879</td>\n",
       "      <td>53.740315</td>\n",
       "      <td>56.027329</td>\n",
       "      <td>1022.50000</td>\n",
       "      <td>1021.900000</td>\n",
       "      <td>1.000000</td>\n",
       "      <td>4.00000</td>\n",
       "      <td>14.1</td>\n",
       "      <td>21.800000</td>\n",
       "      <td>0.0</td>\n",
       "      <td>-31.952712</td>\n",
       "      <td>115.860480</td>\n",
       "    </tr>\n",
       "    <tr>\n",
       "      <th>12686</th>\n",
       "      <td>20121026.0</td>\n",
       "      <td>-1.5</td>\n",
       "      <td>12.5</td>\n",
       "      <td>5.69496</td>\n",
       "      <td>7.993227</td>\n",
       "      <td>1</td>\n",
       "      <td>19.00000</td>\n",
       "      <td>0.0</td>\n",
       "      <td>7.000000</td>\n",
       "      <td>52.017397</td>\n",
       "      <td>79.866587</td>\n",
       "      <td>1026.00000</td>\n",
       "      <td>1024.600000</td>\n",
       "      <td>4.167266</td>\n",
       "      <td>4.27812</td>\n",
       "      <td>2.4</td>\n",
       "      <td>21.800000</td>\n",
       "      <td>0.0</td>\n",
       "      <td>-36.080477</td>\n",
       "      <td>146.916280</td>\n",
       "    </tr>\n",
       "    <tr>\n",
       "      <th>24006</th>\n",
       "      <td>20150626.0</td>\n",
       "      <td>15.7</td>\n",
       "      <td>33.1</td>\n",
       "      <td>6.60000</td>\n",
       "      <td>9.500000</td>\n",
       "      <td>0</td>\n",
       "      <td>48.00000</td>\n",
       "      <td>19.0</td>\n",
       "      <td>22.000000</td>\n",
       "      <td>25.615888</td>\n",
       "      <td>63.380923</td>\n",
       "      <td>1018.03427</td>\n",
       "      <td>1010.600000</td>\n",
       "      <td>7.000000</td>\n",
       "      <td>7.00000</td>\n",
       "      <td>21.9</td>\n",
       "      <td>32.100000</td>\n",
       "      <td>0.0</td>\n",
       "      <td>-34.424394</td>\n",
       "      <td>145.083635</td>\n",
       "    </tr>\n",
       "  </tbody>\n",
       "</table>\n",
       "<p>26367 rows × 20 columns</p>\n",
       "</div>"
      ],
      "text/plain": [
       "             Date  TempLow  TempHigh  Steaming        Sun  WindDir  WindSpeed  \\\n",
       "5284   20121111.0     17.1      22.2   4.20000   7.993227        0   39.38315   \n",
       "10715  20150916.0     12.0      17.1   5.69496   7.993227        0   24.00000   \n",
       "23978  20130528.0     12.6      23.3   5.69496   7.993227       14   52.00000   \n",
       "1285   20130528.0     19.1      32.4   5.69496  13.200000       14   33.00000   \n",
       "24583  20110827.0     12.6      20.5   5.69496   9.800000        0   54.00000   \n",
       "...           ...      ...       ...       ...        ...      ...        ...   \n",
       "16531  20090305.0      5.2      15.0   2.80000   5.400000        9   31.00000   \n",
       "19398  20170112.0      5.0      17.7   3.80000  10.400000        0   46.00000   \n",
       "25958  20121003.0     12.0      18.1   1.00000  10.100000        0   39.00000   \n",
       "12686  20121026.0     -1.5      12.5   5.69496   7.993227        1   19.00000   \n",
       "24006  20150626.0     15.7      33.1   6.60000   9.500000        0   48.00000   \n",
       "\n",
       "       DayWindSpeed  NightWindSpeed  DayHumidity  NightHumidity  DayPressure  \\\n",
       "5284           15.0       18.435879    53.212563      67.577298   1018.70000   \n",
       "10715          13.0       18.435879    70.891022      60.536428   1023.60000   \n",
       "23978          13.0       20.000000    52.612816      59.631471   1018.03427   \n",
       "1285           13.0       24.000000    52.307109      51.770240   1011.40000   \n",
       "24583          20.0       20.000000    52.830881      51.919749   1018.03427   \n",
       "...             ...             ...          ...            ...          ...   \n",
       "16531          13.0       17.000000    65.587074      41.362835   1034.40000   \n",
       "19398          22.0       30.000000    30.507485      55.284498   1020.40000   \n",
       "25958          15.0       18.435879    53.740315      56.027329   1022.50000   \n",
       "12686           0.0        7.000000    52.017397      79.866587   1026.00000   \n",
       "24006          19.0       22.000000    25.615888      63.380923   1018.03427   \n",
       "\n",
       "       NightPressure  DayCloud  NightCloud  DayTemp  NightTemp  RISK_MM  \\\n",
       "5284     1015.465952  7.000000     4.27812     17.0  22.157059      0.0   \n",
       "10715    1022.200000  7.000000     8.00000     13.5  16.700000      0.0   \n",
       "23978    1015.465952  8.000000     1.00000     14.7  18.200000      3.0   \n",
       "1285     1010.400000  2.000000     3.00000     29.3  21.800000      0.0   \n",
       "24583    1013.000000  4.167266     3.00000     16.1  20.000000      0.0   \n",
       "...              ...       ...         ...      ...        ...      ...   \n",
       "16531    1032.600000  2.000000     7.00000     12.4  13.400000      0.0   \n",
       "19398    1017.700000  0.000000     0.00000     17.0  17.100000      0.0   \n",
       "25958    1021.900000  1.000000     4.00000     14.1  21.800000      0.0   \n",
       "12686    1024.600000  4.167266     4.27812      2.4  21.800000      0.0   \n",
       "24006    1010.600000  7.000000     7.00000     21.9  32.100000      0.0   \n",
       "\n",
       "         loc_lat    loc_long  \n",
       "5284  -35.024782  117.883608  \n",
       "10715 -34.424394  145.083635  \n",
       "23978 -41.434081  147.137350  \n",
       "1285  -34.424394  145.083635  \n",
       "24583 -34.424394  145.083635  \n",
       "...          ...         ...  \n",
       "16531 -42.882509  147.328123  \n",
       "19398 -29.461720  149.840715  \n",
       "25958 -31.952712  115.860480  \n",
       "12686 -36.080477  146.916280  \n",
       "24006 -34.424394  145.083635  \n",
       "\n",
       "[26367 rows x 20 columns]"
      ]
     },
     "execution_count": 35,
     "metadata": {},
     "output_type": "execute_result"
    }
   ],
   "source": [
    "x_train"
   ]
  },
  {
   "cell_type": "markdown",
   "metadata": {},
   "source": [
    "#### MaxMin"
   ]
  },
  {
   "cell_type": "code",
   "execution_count": 36,
   "metadata": {},
   "outputs": [],
   "source": [
    "from sklearn.preprocessing import MinMaxScaler"
   ]
  },
  {
   "cell_type": "code",
   "execution_count": 37,
   "metadata": {},
   "outputs": [],
   "source": [
    "scaler = MinMaxScaler()"
   ]
  },
  {
   "cell_type": "code",
   "execution_count": 38,
   "metadata": {},
   "outputs": [],
   "source": [
    "# scaler.fit(x_train)"
   ]
  },
  {
   "cell_type": "code",
   "execution_count": 39,
   "metadata": {},
   "outputs": [],
   "source": [
    "# x_train_std = scaler.transform(x_train)\n",
    "# x_test_std = scaler.transform(x_test)\n",
    "# x_val_std = scaler.transform(x_val)"
   ]
  },
  {
   "cell_type": "code",
   "execution_count": 40,
   "metadata": {},
   "outputs": [],
   "source": [
    "# x_train_std = scaler.fit_transform(x_train)\n",
    "# x_test_std = scaler.fit_transform(x_test)\n",
    "# x_val_std = scaler.fit_transform(x_val)"
   ]
  },
  {
   "cell_type": "markdown",
   "metadata": {},
   "source": [
    "#### Standariz3"
   ]
  },
  {
   "cell_type": "markdown",
   "metadata": {},
   "source": [
    "##### Original"
   ]
  },
  {
   "cell_type": "code",
   "execution_count": 41,
   "metadata": {},
   "outputs": [],
   "source": [
    "from sklearn.preprocessing import StandardScaler\n",
    "sc = StandardScaler()\n",
    "sc.fit(x_train)\n",
    "\n",
    "x_train_std = sc.transform(x_train)\n",
    "x_test_std = sc.transform(x_test)"
   ]
  },
  {
   "cell_type": "code",
   "execution_count": 42,
   "metadata": {},
   "outputs": [],
   "source": [
    "x_val_std = sc.transform(x_val)"
   ]
  },
  {
   "cell_type": "markdown",
   "metadata": {},
   "source": [
    "#### Do the PCA"
   ]
  },
  {
   "cell_type": "code",
   "execution_count": 43,
   "metadata": {},
   "outputs": [],
   "source": [
    "from sklearn.decomposition import PCA\n",
    "pca = PCA(n_components=2)"
   ]
  },
  {
   "cell_type": "code",
   "execution_count": 44,
   "metadata": {},
   "outputs": [],
   "source": [
    "# x_train_std = pca.fit_transform(x_train_std)"
   ]
  },
  {
   "cell_type": "code",
   "execution_count": 45,
   "metadata": {},
   "outputs": [],
   "source": [
    "# x_test_std = pca.fit_transform(x_test_std)"
   ]
  },
  {
   "cell_type": "code",
   "execution_count": 46,
   "metadata": {},
   "outputs": [],
   "source": [
    "# x_val_std = pca.fit_transform(x_val_std)"
   ]
  },
  {
   "cell_type": "markdown",
   "metadata": {},
   "source": [
    "##### Oversampleing"
   ]
  },
  {
   "cell_type": "code",
   "execution_count": 47,
   "metadata": {},
   "outputs": [],
   "source": [
    "# from imblearn.over_sampling import SMOTE\n",
    "# sampler = SMOTE(random_state=42)\n",
    "# x_train_std, y_train = sampler.fit_resample(x_train_std, y_train)"
   ]
  },
  {
   "cell_type": "code",
   "execution_count": 48,
   "metadata": {},
   "outputs": [],
   "source": [
    "# plot_y = pd.DataFrame(y_train, columns = ['Weather'])\n",
    "# after_processed = plot_y['Weather'].value_counts().plot(kind='bar')"
   ]
  },
  {
   "cell_type": "markdown",
   "metadata": {},
   "source": [
    "#### Downsampling"
   ]
  },
  {
   "cell_type": "code",
   "execution_count": 49,
   "metadata": {},
   "outputs": [],
   "source": [
    "from imblearn.under_sampling import TomekLinks"
   ]
  },
  {
   "cell_type": "code",
   "execution_count": 50,
   "metadata": {},
   "outputs": [],
   "source": [
    "tl = TomekLinks(sampling_strategy='majority')"
   ]
  },
  {
   "cell_type": "code",
   "execution_count": 51,
   "metadata": {},
   "outputs": [],
   "source": [
    "x_train_std, y_train=tl.fit_resample(x_train_std, y_train)"
   ]
  },
  {
   "cell_type": "code",
   "execution_count": 52,
   "metadata": {},
   "outputs": [],
   "source": [
    "# plot_y = pd.DataFrame(y_train_tl, columns = ['Weather'])\n",
    "# after_processed = plot_y['Weather'].value_counts().plot(kind='bar')"
   ]
  },
  {
   "cell_type": "code",
   "execution_count": 53,
   "metadata": {},
   "outputs": [
    {
     "data": {
      "image/png": "[encoded data removed]",
      "text/plain": [
       "<Figure size 640x480 with 1 Axes>"
      ]
     },
     "metadata": {},
     "output_type": "display_data"
    }
   ],
   "source": [
    "plot_y = pd.DataFrame(y_train, columns = ['Weather'])\n",
    "after_processed = plot_y['Weather'].value_counts().plot(kind='bar')"
   ]
  },
  {
   "cell_type": "markdown",
   "metadata": {},
   "source": [
    "## Light BGM"
   ]
  },
  {
   "cell_type": "code",
   "execution_count": 54,
   "metadata": {
    "jupyter": {
     "outputs_hidden": true
    }
   },
   "outputs": [],
   "source": [
    "# lg = lgb.LGBMClassifier(silent=False)\n",
    "# param_dist = {\"max_depth\": [3,4,5,6,7,8,9,10],\n",
    "#               \"learning_rate\" : [0.01,0.05,0.1],\n",
    "#               \"num_leaves\": [300,900],\n",
    "#               \"n_estimators\": [200]\n",
    "#              }\n",
    "# grid_search = GridSearchCV(lg, n_jobs=8, param_grid=param_dist, cv = 3, scoring=\"f1\", verbose=5)"
   ]
  },
  {
   "cell_type": "code",
   "execution_count": 55,
   "metadata": {
    "jupyter": {
     "outputs_hidden": true
    }
   },
   "outputs": [],
   "source": [
    "# grid_search.fit(x_train_std,y_train)\n",
    "# grid_search.best_estimator_"
   ]
  },
  {
   "cell_type": "code",
   "execution_count": 62,
   "metadata": {},
   "outputs": [],
   "source": [
    "lbgm=lgb.LGBMClassifier(max_depth=10, n_estimators=200, scale_pos_weight=4, num_leaves=20)"
   ]
  },
  {
   "cell_type": "code",
   "execution_count": 63,
   "metadata": {},
   "outputs": [
    {
     "data": {
      "text/plain": [
       "LGBMClassifier(max_depth=10, n_estimators=200, num_leaves=20,\n",
       "               scale_pos_weight=4)"
      ]
     },
     "execution_count": 63,
     "metadata": {},
     "output_type": "execute_result"
    }
   ],
   "source": [
    "lbgm.fit(x_train_std,y_train)"
   ]
  },
  {
   "cell_type": "code",
   "execution_count": 64,
   "metadata": {},
   "outputs": [
    {
     "name": "stdout",
     "output_type": "stream",
     "text": [
      "Accuracy: 0.862897\n",
      "f1-score: 0.452024\n"
     ]
    }
   ],
   "source": [
    "y_pred_lbgm = lbgm.predict(x_val_std)\n",
    "print('Accuracy: %f' % accuracy_score(y_val, y_pred_lbgm))\n",
    "print('f1-score: %f' % f1_score(y_val, y_pred_lbgm))"
   ]
  },
  {
   "cell_type": "code",
   "execution_count": 65,
   "metadata": {},
   "outputs": [
    {
     "data": {
      "text/plain": [
       "<AxesSubplot:>"
      ]
     },
     "execution_count": 65,
     "metadata": {},
     "output_type": "execute_result"
    },
    {
     "data": {
      "image/png": "[encoded data removed]",
      "text/plain": [
       "<Figure size 600x400 with 2 Axes>"
      ]
     },
     "metadata": {},
     "output_type": "display_data"
    }
   ],
   "source": [
    "cm=confusion_matrix(y_val,y_pred_lbgm)\n",
    "plt.figure(figsize=(6,4))\n",
    "sns.heatmap(cm,annot=True,cmap='Blues')"
   ]
  },
  {
   "cell_type": "markdown",
   "metadata": {},
   "source": [
    "## Craete Ans "
   ]
  },
  {
   "cell_type": "code",
   "execution_count": 60,
   "metadata": {},
   "outputs": [],
   "source": [
    "ans_pred = lbgm.predict(x_test_std)\n",
    "df_sap = pd.DataFrame(ans_pred.astype(int), columns = ['Weather'])\n",
    "df_sap.to_csv('myAns.csv',  index_label = 'Id')"
   ]
  },
  {
   "cell_type": "code",
   "execution_count": 61,
   "metadata": {},
   "outputs": [],
   "source": [
    "# temp_1 = pd.DataFrame(process_date[:train_end_idx],columns = ['Y','M','D'])\n",
    "# temp_2 = pd.DataFrame(process_date[train_end_idx:],columns = ['Y','M','D'])\n",
    "# process_date = pd.concat([temp_1, temp_2], sort=False)  \n",
    "# df = pd.concat([df, process_date], axis=1,sort=False)\n",
    "\n",
    "# temp_1 = pd.DataFrame(data_wind[:train_end_idx],columns = ['w1','w2','w3'])\n",
    "# temp_2 = pd.DataFrame(data_wind[train_end_idx:],columns = ['w1','w2','w3'])\n",
    "# data_wind = pd.concat([temp_1, temp_2], sort=False)  \n",
    "# df = pd.concat([df, data_wind], axis=1,sort=False)"
   ]
  }
 ],
 "metadata": {
  "kernelspec": {
   "display_name": "Python 3 (ipykernel)",
   "language": "python",
   "name": "python3"
  },
  "language_info": {
   "codemirror_mode": {
    "name": "ipython",
    "version": 3
   },
   "file_extension": ".py",
   "mimetype": "text/x-python",
   "name": "python",
   "nbconvert_exporter": "python",
   "pygments_lexer": "ipython3",
   "version": "3.9.13"
  }
 },
 "nbformat": 4,
 "nbformat_minor": 4
}
